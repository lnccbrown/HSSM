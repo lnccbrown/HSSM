{
 "cells": [
  {
   "cell_type": "markdown",
   "metadata": {},
   "source": [
    "# Stimulus Coding Example\n",
    "\n",
    "In this tutorial we illustrate how to use the regression approach to model the effect of stimulus coding on the drift rate parameter of the DDM."
   ]
  },
  {
   "cell_type": "markdown",
   "metadata": {},
   "source": [
    "### Import Modules"
   ]
  },
  {
   "cell_type": "code",
   "execution_count": 1,
   "metadata": {},
   "outputs": [],
   "source": [
    "from copy import deepcopy\n",
    "import arviz as az\n",
    "import pandas as pd\n",
    "import hssm"
   ]
  },
  {
   "cell_type": "markdown",
   "metadata": {},
   "source": [
    "## What is Stimulus Coding?\n",
    "\n",
    "There are two core approaches to coding the stimuli when fitting paramters of 2-choice SSMs (the discussion here is simplified, to bring across the core ideas, de facto ideas from both approaches can be mixed):\n",
    "\n",
    "1. *Accuracy coding*: Responses are treated as **correct** or **incorrect**\n",
    "2. *Stimulus coding*: Responses are treated as **stimulus_1** or **stimulus_2**\n",
    "\n",
    "Take as a running example a simple random dot motion task with two conditions, `left` and `right`. Both conditions are equally *difficult*, but for half of the experiments the correct motion direction is left, and for the other half it is right.\n",
    "\n",
    "So it will be reasonable to assume that, ceteris paribus, nothing should really change in terms of participant behavior, apart from symmetrically preferring right to left when it is correct and vice versa. \n",
    "\n",
    "Now, when applying *Accuracy coding*, we would expect the drift rate to be the same for both conditions, any condition effect to vanish by the time we code responses as correct or incorrect.\n",
    "\n",
    "When we apply *Stimulus coding* on the other hand, we actively need to account for the direction change (since we now attach our *response values*, e.g. `-1`, `1`, permanently to specific choice-options, regardless correctness). \n",
    "\n",
    "To formulate a model that is equivalent to the one described above in terms of *accuracy coding*, we again want to estimate only a single `v` parameter, but we have to respect the direction change in response when respectively completing experiment conditions `left` and `right`.\n",
    "\n",
    "Note that an important aspect of what we describe above is that we want to estimate a single `v` parameter in each of the two *coding approaches*.\n",
    "\n",
    "For *Accuracy coding* we simply estimate a single `v` parameter, and no extra work is necessary.\n",
    "\n",
    "For *Stimulus coding* we need to account for **symmetric** shift in direction from the two experiment conditions. One way to do this, is the following:\n",
    "\n",
    "We can simply assign a covariate, `direction`, which codes `-1` for `left` and `1` for `right`.\n",
    "Then we use the following regression formula for the `v` parameter: `v ~ 0 + direction`. \n",
    "\n",
    "Note that we are *not using an intercept* here.\n",
    "\n",
    "Let's how this works in practice."
   ]
  },
  {
   "cell_type": "markdown",
   "metadata": {},
   "source": [
    "## Simulate Data\n"
   ]
  },
  {
   "cell_type": "code",
   "execution_count": 2,
   "metadata": {},
   "outputs": [
    {
     "name": "stdout",
     "output_type": "stream",
     "text": [
      "         rt  response    stim  direction  response_acc\n",
      "0  0.765660       1.0  C-left         -1           1.0\n",
      "1  2.073602       1.0  C-left         -1           1.0\n",
      "2  2.756536      -1.0  C-left         -1          -1.0\n",
      "3  0.421932       1.0  C-left         -1           1.0\n",
      "4  3.323014       1.0  C-left         -1           1.0\n",
      "         rt  response    stim  direction  response_acc\n",
      "0  0.765660      -1.0  C-left         -1           1.0\n",
      "1  2.073602      -1.0  C-left         -1           1.0\n",
      "2  2.756536       1.0  C-left         -1          -1.0\n",
      "3  0.421932      -1.0  C-left         -1           1.0\n",
      "4  3.323014      -1.0  C-left         -1           1.0\n"
     ]
    }
   ],
   "source": [
    "# Condition 1\n",
    "stim_1 = hssm.simulate_data(\n",
    "    model=\"ddm\", theta=dict(v=-0.5, a=1.5, z=0.5, t=0.1), size=500\n",
    ")\n",
    "\n",
    "stim_1[\"stim\"] = \"C-left\"\n",
    "stim_1[\"direction\"] = -1\n",
    "stim_1[\"response_acc\"] = (-1) * stim_1[\"response\"]\n",
    "\n",
    "# Condition 2\n",
    "stim_2 = hssm.simulate_data(\n",
    "    model=\"ddm\", theta=dict(v=0.5, a=1.5, z=0.5, t=0.1), size=500\n",
    ")\n",
    "\n",
    "stim_2[\"stim\"] = \"C-right\"\n",
    "stim_2[\"direction\"] = 1\n",
    "stim_2[\"response_acc\"] = stim_2[\"response\"]\n",
    "\n",
    "data_stim = pd.concat([stim_1, stim_2]).reset_index(drop=True)\n",
    "\n",
    "data_acc = deepcopy(data_stim)\n",
    "data_acc[\"response\"] = data_acc[\"response_acc\"]\n",
    "\n",
    "print(data_acc.head())\n",
    "print(data_stim.head())"
   ]
  },
  {
   "cell_type": "markdown",
   "metadata": {},
   "source": [
    "## Set up Models"
   ]
  },
  {
   "cell_type": "markdown",
   "metadata": {},
   "source": [
    "### Accuracy Coding\n"
   ]
  },
  {
   "cell_type": "code",
   "execution_count": 3,
   "metadata": {},
   "outputs": [
    {
     "name": "stdout",
     "output_type": "stream",
     "text": [
      "Model initialized successfully.\n",
      "Using default initvals. \n",
      "\n"
     ]
    },
    {
     "name": "stderr",
     "output_type": "stream",
     "text": [
      "Initializing NUTS using adapt_diag...\n",
      "Multiprocess sampling (4 chains in 4 jobs)\n",
      "NUTS: [a, t, v_Intercept, v_stim]\n"
     ]
    },
    {
     "data": {
      "application/vnd.jupyter.widget-view+json": {
       "model_id": "2f927f67a4df469abdb0c7652e6133dd",
       "version_major": 2,
       "version_minor": 0
      },
      "text/plain": [
       "Output()"
      ]
     },
     "metadata": {},
     "output_type": "display_data"
    },
    {
     "data": {
      "text/html": [
       "<pre style=\"white-space:pre;overflow-x:auto;line-height:normal;font-family:Menlo,'DejaVu Sans Mono',consolas,'Courier New',monospace\"></pre>\n"
      ],
      "text/plain": []
     },
     "metadata": {},
     "output_type": "display_data"
    },
    {
     "name": "stderr",
     "output_type": "stream",
     "text": [
      "Sampling 4 chains for 500 tune and 500 draw iterations (2_000 + 2_000 draws total) took 7 seconds.\n",
      "100%|██████████| 2000/2000 [00:01<00:00, 1139.43it/s]\n"
     ]
    },
    {
     "data": {
      "text/html": [
       "<div>\n",
       "<style scoped>\n",
       "    .dataframe tbody tr th:only-of-type {\n",
       "        vertical-align: middle;\n",
       "    }\n",
       "\n",
       "    .dataframe tbody tr th {\n",
       "        vertical-align: top;\n",
       "    }\n",
       "\n",
       "    .dataframe thead th {\n",
       "        text-align: right;\n",
       "    }\n",
       "</style>\n",
       "<table border=\"1\" class=\"dataframe\">\n",
       "  <thead>\n",
       "    <tr style=\"text-align: right;\">\n",
       "      <th></th>\n",
       "      <th>mean</th>\n",
       "      <th>sd</th>\n",
       "      <th>hdi_3%</th>\n",
       "      <th>hdi_97%</th>\n",
       "      <th>mcse_mean</th>\n",
       "      <th>mcse_sd</th>\n",
       "      <th>ess_bulk</th>\n",
       "      <th>ess_tail</th>\n",
       "      <th>r_hat</th>\n",
       "    </tr>\n",
       "  </thead>\n",
       "  <tbody>\n",
       "    <tr>\n",
       "      <th>a</th>\n",
       "      <td>1.418</td>\n",
       "      <td>0.026</td>\n",
       "      <td>1.372</td>\n",
       "      <td>1.467</td>\n",
       "      <td>0.001</td>\n",
       "      <td>0.001</td>\n",
       "      <td>1649.0</td>\n",
       "      <td>1498.0</td>\n",
       "      <td>1.0</td>\n",
       "    </tr>\n",
       "    <tr>\n",
       "      <th>t</th>\n",
       "      <td>0.146</td>\n",
       "      <td>0.017</td>\n",
       "      <td>0.115</td>\n",
       "      <td>0.175</td>\n",
       "      <td>0.000</td>\n",
       "      <td>0.000</td>\n",
       "      <td>1378.0</td>\n",
       "      <td>1071.0</td>\n",
       "      <td>1.0</td>\n",
       "    </tr>\n",
       "    <tr>\n",
       "      <th>v_stim[C-right]</th>\n",
       "      <td>0.061</td>\n",
       "      <td>0.050</td>\n",
       "      <td>-0.034</td>\n",
       "      <td>0.153</td>\n",
       "      <td>0.001</td>\n",
       "      <td>0.001</td>\n",
       "      <td>1830.0</td>\n",
       "      <td>1570.0</td>\n",
       "      <td>1.0</td>\n",
       "    </tr>\n",
       "    <tr>\n",
       "      <th>v_Intercept</th>\n",
       "      <td>0.503</td>\n",
       "      <td>0.036</td>\n",
       "      <td>0.435</td>\n",
       "      <td>0.570</td>\n",
       "      <td>0.001</td>\n",
       "      <td>0.001</td>\n",
       "      <td>1877.0</td>\n",
       "      <td>1680.0</td>\n",
       "      <td>1.0</td>\n",
       "    </tr>\n",
       "  </tbody>\n",
       "</table>\n",
       "</div>"
      ],
      "text/plain": [
       "                  mean     sd  hdi_3%  hdi_97%  mcse_mean  mcse_sd  ess_bulk  \\\n",
       "a                1.418  0.026   1.372    1.467      0.001    0.001    1649.0   \n",
       "t                0.146  0.017   0.115    0.175      0.000    0.000    1378.0   \n",
       "v_stim[C-right]  0.061  0.050  -0.034    0.153      0.001    0.001    1830.0   \n",
       "v_Intercept      0.503  0.036   0.435    0.570      0.001    0.001    1877.0   \n",
       "\n",
       "                 ess_tail  r_hat  \n",
       "a                  1498.0    1.0  \n",
       "t                  1071.0    1.0  \n",
       "v_stim[C-right]    1570.0    1.0  \n",
       "v_Intercept        1680.0    1.0  "
      ]
     },
     "execution_count": 3,
     "metadata": {},
     "output_type": "execute_result"
    }
   ],
   "source": [
    "m_acc_stim_dummy = hssm.HSSM(\n",
    "    data=data_acc,\n",
    "    model=\"ddm\",\n",
    "    include=[{\"name\": \"v\", \"formula\": \"v ~ 1 + stim\"}],\n",
    "    z=0.5,\n",
    ")\n",
    "\n",
    "m_acc_stim_dummy.sample(sampler=\"mcmc\", tune=500, draws=500)\n",
    "\n",
    "m_acc_stim_dummy.summary()"
   ]
  },
  {
   "cell_type": "code",
   "execution_count": 4,
   "metadata": {},
   "outputs": [
    {
     "name": "stdout",
     "output_type": "stream",
     "text": [
      "Model initialized successfully.\n",
      "Using default initvals. \n",
      "\n"
     ]
    },
    {
     "name": "stderr",
     "output_type": "stream",
     "text": [
      "Initializing NUTS using adapt_diag...\n",
      "Multiprocess sampling (4 chains in 4 jobs)\n",
      "NUTS: [a, t, v_Intercept]\n"
     ]
    },
    {
     "data": {
      "application/vnd.jupyter.widget-view+json": {
       "model_id": "6f68c5ff07a14b979828d5d4e2cc20a8",
       "version_major": 2,
       "version_minor": 0
      },
      "text/plain": [
       "Output()"
      ]
     },
     "metadata": {},
     "output_type": "display_data"
    },
    {
     "data": {
      "text/html": [
       "<pre style=\"white-space:pre;overflow-x:auto;line-height:normal;font-family:Menlo,'DejaVu Sans Mono',consolas,'Courier New',monospace\"></pre>\n"
      ],
      "text/plain": []
     },
     "metadata": {},
     "output_type": "display_data"
    },
    {
     "name": "stderr",
     "output_type": "stream",
     "text": [
      "Sampling 4 chains for 500 tune and 500 draw iterations (2_000 + 2_000 draws total) took 8 seconds.\n",
      "100%|██████████| 2000/2000 [00:01<00:00, 1776.00it/s]\n"
     ]
    },
    {
     "data": {
      "text/html": [
       "<div>\n",
       "<style scoped>\n",
       "    .dataframe tbody tr th:only-of-type {\n",
       "        vertical-align: middle;\n",
       "    }\n",
       "\n",
       "    .dataframe tbody tr th {\n",
       "        vertical-align: top;\n",
       "    }\n",
       "\n",
       "    .dataframe thead th {\n",
       "        text-align: right;\n",
       "    }\n",
       "</style>\n",
       "<table border=\"1\" class=\"dataframe\">\n",
       "  <thead>\n",
       "    <tr style=\"text-align: right;\">\n",
       "      <th></th>\n",
       "      <th>mean</th>\n",
       "      <th>sd</th>\n",
       "      <th>hdi_3%</th>\n",
       "      <th>hdi_97%</th>\n",
       "      <th>mcse_mean</th>\n",
       "      <th>mcse_sd</th>\n",
       "      <th>ess_bulk</th>\n",
       "      <th>ess_tail</th>\n",
       "      <th>r_hat</th>\n",
       "    </tr>\n",
       "  </thead>\n",
       "  <tbody>\n",
       "    <tr>\n",
       "      <th>a</th>\n",
       "      <td>1.417</td>\n",
       "      <td>0.026</td>\n",
       "      <td>1.366</td>\n",
       "      <td>1.463</td>\n",
       "      <td>0.001</td>\n",
       "      <td>0.001</td>\n",
       "      <td>1286.0</td>\n",
       "      <td>1040.0</td>\n",
       "      <td>1.0</td>\n",
       "    </tr>\n",
       "    <tr>\n",
       "      <th>t</th>\n",
       "      <td>0.146</td>\n",
       "      <td>0.017</td>\n",
       "      <td>0.114</td>\n",
       "      <td>0.177</td>\n",
       "      <td>0.000</td>\n",
       "      <td>0.000</td>\n",
       "      <td>1353.0</td>\n",
       "      <td>1210.0</td>\n",
       "      <td>1.0</td>\n",
       "    </tr>\n",
       "    <tr>\n",
       "      <th>v_Intercept</th>\n",
       "      <td>0.533</td>\n",
       "      <td>0.027</td>\n",
       "      <td>0.480</td>\n",
       "      <td>0.581</td>\n",
       "      <td>0.001</td>\n",
       "      <td>0.001</td>\n",
       "      <td>1377.0</td>\n",
       "      <td>1260.0</td>\n",
       "      <td>1.0</td>\n",
       "    </tr>\n",
       "  </tbody>\n",
       "</table>\n",
       "</div>"
      ],
      "text/plain": [
       "              mean     sd  hdi_3%  hdi_97%  mcse_mean  mcse_sd  ess_bulk  \\\n",
       "a            1.417  0.026   1.366    1.463      0.001    0.001    1286.0   \n",
       "t            0.146  0.017   0.114    0.177      0.000    0.000    1353.0   \n",
       "v_Intercept  0.533  0.027   0.480    0.581      0.001    0.001    1377.0   \n",
       "\n",
       "             ess_tail  r_hat  \n",
       "a              1040.0    1.0  \n",
       "t              1210.0    1.0  \n",
       "v_Intercept    1260.0    1.0  "
      ]
     },
     "execution_count": 4,
     "metadata": {},
     "output_type": "execute_result"
    }
   ],
   "source": [
    "m_acc_simple = hssm.HSSM(\n",
    "    data=data_acc,\n",
    "    model=\"ddm\",\n",
    "    include=[\n",
    "        {\n",
    "            \"name\": \"v\",\n",
    "            \"formula\": \"v ~ 1\",\n",
    "            \"prior\": {\"Intercept\": {\"name\": \"Normal\", \"mu\": 0.0, \"sigma\": 3.0}},\n",
    "        }\n",
    "    ],\n",
    "    z=0.5,\n",
    ")\n",
    "\n",
    "m_acc_simple.sample(sampler=\"mcmc\", tune=500, draws=500)\n",
    "\n",
    "m_acc_simple.summary()"
   ]
  },
  {
   "cell_type": "code",
   "execution_count": 5,
   "metadata": {},
   "outputs": [
    {
     "data": {
      "text/html": [
       "<div>\n",
       "<style scoped>\n",
       "    .dataframe tbody tr th:only-of-type {\n",
       "        vertical-align: middle;\n",
       "    }\n",
       "\n",
       "    .dataframe tbody tr th {\n",
       "        vertical-align: top;\n",
       "    }\n",
       "\n",
       "    .dataframe thead th {\n",
       "        text-align: right;\n",
       "    }\n",
       "</style>\n",
       "<table border=\"1\" class=\"dataframe\">\n",
       "  <thead>\n",
       "    <tr style=\"text-align: right;\">\n",
       "      <th></th>\n",
       "      <th>rank</th>\n",
       "      <th>elpd_loo</th>\n",
       "      <th>p_loo</th>\n",
       "      <th>elpd_diff</th>\n",
       "      <th>weight</th>\n",
       "      <th>se</th>\n",
       "      <th>dse</th>\n",
       "      <th>warning</th>\n",
       "      <th>scale</th>\n",
       "    </tr>\n",
       "  </thead>\n",
       "  <tbody>\n",
       "    <tr>\n",
       "      <th>m_acc_simple</th>\n",
       "      <td>0</td>\n",
       "      <td>-1934.137814</td>\n",
       "      <td>2.890788</td>\n",
       "      <td>0.000000</td>\n",
       "      <td>0.68423</td>\n",
       "      <td>33.537324</td>\n",
       "      <td>0.000000</td>\n",
       "      <td>False</td>\n",
       "      <td>log</td>\n",
       "    </tr>\n",
       "    <tr>\n",
       "      <th>m_acc_stim_dummy</th>\n",
       "      <td>1</td>\n",
       "      <td>-1934.384055</td>\n",
       "      <td>3.830290</td>\n",
       "      <td>0.246242</td>\n",
       "      <td>0.31577</td>\n",
       "      <td>33.546728</td>\n",
       "      <td>1.155514</td>\n",
       "      <td>False</td>\n",
       "      <td>log</td>\n",
       "    </tr>\n",
       "  </tbody>\n",
       "</table>\n",
       "</div>"
      ],
      "text/plain": [
       "                  rank     elpd_loo     p_loo  elpd_diff   weight         se  \\\n",
       "m_acc_simple         0 -1934.137814  2.890788   0.000000  0.68423  33.537324   \n",
       "m_acc_stim_dummy     1 -1934.384055  3.830290   0.246242  0.31577  33.546728   \n",
       "\n",
       "                       dse  warning scale  \n",
       "m_acc_simple      0.000000    False   log  \n",
       "m_acc_stim_dummy  1.155514    False   log  "
      ]
     },
     "execution_count": 5,
     "metadata": {},
     "output_type": "execute_result"
    }
   ],
   "source": [
    "az.compare({\"m_acc_simple\": m_acc_simple.traces, \n",
    "            \"m_acc_stim_dummy\": m_acc_stim_dummy.traces})"
   ]
  },
  {
   "cell_type": "markdown",
   "metadata": {},
   "source": [
    "## Stim Coding"
   ]
  },
  {
   "cell_type": "code",
   "execution_count": 6,
   "metadata": {},
   "outputs": [
    {
     "name": "stdout",
     "output_type": "stream",
     "text": [
      "Model initialized successfully.\n",
      "Using default initvals. \n",
      "\n"
     ]
    },
    {
     "name": "stderr",
     "output_type": "stream",
     "text": [
      "Initializing NUTS using adapt_diag...\n",
      "Multiprocess sampling (4 chains in 4 jobs)\n",
      "NUTS: [a, t, v_direction]\n"
     ]
    },
    {
     "data": {
      "application/vnd.jupyter.widget-view+json": {
       "model_id": "37fedfc75eda41e5b7a1dc10adab33df",
       "version_major": 2,
       "version_minor": 0
      },
      "text/plain": [
       "Output()"
      ]
     },
     "metadata": {},
     "output_type": "display_data"
    },
    {
     "data": {
      "text/html": [
       "<pre style=\"white-space:pre;overflow-x:auto;line-height:normal;font-family:Menlo,'DejaVu Sans Mono',consolas,'Courier New',monospace\"></pre>\n"
      ],
      "text/plain": []
     },
     "metadata": {},
     "output_type": "display_data"
    },
    {
     "name": "stderr",
     "output_type": "stream",
     "text": [
      "Sampling 4 chains for 500 tune and 500 draw iterations (2_000 + 2_000 draws total) took 6 seconds.\n",
      "100%|██████████| 2000/2000 [00:00<00:00, 2677.81it/s]\n"
     ]
    },
    {
     "data": {
      "text/html": [
       "<div>\n",
       "<style scoped>\n",
       "    .dataframe tbody tr th:only-of-type {\n",
       "        vertical-align: middle;\n",
       "    }\n",
       "\n",
       "    .dataframe tbody tr th {\n",
       "        vertical-align: top;\n",
       "    }\n",
       "\n",
       "    .dataframe thead th {\n",
       "        text-align: right;\n",
       "    }\n",
       "</style>\n",
       "<table border=\"1\" class=\"dataframe\">\n",
       "  <thead>\n",
       "    <tr style=\"text-align: right;\">\n",
       "      <th></th>\n",
       "      <th>mean</th>\n",
       "      <th>sd</th>\n",
       "      <th>hdi_3%</th>\n",
       "      <th>hdi_97%</th>\n",
       "      <th>mcse_mean</th>\n",
       "      <th>mcse_sd</th>\n",
       "      <th>ess_bulk</th>\n",
       "      <th>ess_tail</th>\n",
       "      <th>r_hat</th>\n",
       "    </tr>\n",
       "  </thead>\n",
       "  <tbody>\n",
       "    <tr>\n",
       "      <th>a</th>\n",
       "      <td>1.416</td>\n",
       "      <td>0.027</td>\n",
       "      <td>1.368</td>\n",
       "      <td>1.468</td>\n",
       "      <td>0.001</td>\n",
       "      <td>0.001</td>\n",
       "      <td>1313.0</td>\n",
       "      <td>1262.0</td>\n",
       "      <td>1.0</td>\n",
       "    </tr>\n",
       "    <tr>\n",
       "      <th>t</th>\n",
       "      <td>0.147</td>\n",
       "      <td>0.017</td>\n",
       "      <td>0.115</td>\n",
       "      <td>0.177</td>\n",
       "      <td>0.001</td>\n",
       "      <td>0.001</td>\n",
       "      <td>1152.0</td>\n",
       "      <td>925.0</td>\n",
       "      <td>1.0</td>\n",
       "    </tr>\n",
       "    <tr>\n",
       "      <th>v_direction</th>\n",
       "      <td>0.532</td>\n",
       "      <td>0.027</td>\n",
       "      <td>0.485</td>\n",
       "      <td>0.583</td>\n",
       "      <td>0.001</td>\n",
       "      <td>0.001</td>\n",
       "      <td>1216.0</td>\n",
       "      <td>1194.0</td>\n",
       "      <td>1.0</td>\n",
       "    </tr>\n",
       "  </tbody>\n",
       "</table>\n",
       "</div>"
      ],
      "text/plain": [
       "              mean     sd  hdi_3%  hdi_97%  mcse_mean  mcse_sd  ess_bulk  \\\n",
       "a            1.416  0.027   1.368    1.468      0.001    0.001    1313.0   \n",
       "t            0.147  0.017   0.115    0.177      0.001    0.001    1152.0   \n",
       "v_direction  0.532  0.027   0.485    0.583      0.001    0.001    1216.0   \n",
       "\n",
       "             ess_tail  r_hat  \n",
       "a              1262.0    1.0  \n",
       "t               925.0    1.0  \n",
       "v_direction    1194.0    1.0  "
      ]
     },
     "execution_count": 6,
     "metadata": {},
     "output_type": "execute_result"
    }
   ],
   "source": [
    "m_stim = hssm.HSSM(\n",
    "    data=data_stim,\n",
    "    model=\"ddm\",\n",
    "    include=[\n",
    "        {\n",
    "            \"name\": \"v\",\n",
    "            \"formula\": \"v ~ 0 + direction\",\n",
    "            \"prior\": {\"direction\": {\"name\": \"Normal\", \"mu\": 0.0, \"sigma\": 3.0}},\n",
    "        }\n",
    "    ],\n",
    "    z=0.5,\n",
    ")\n",
    "\n",
    "m_stim.sample(sampler=\"mcmc\", tune=500, draws=500)\n",
    "\n",
    "m_stim.summary()"
   ]
  },
  {
   "cell_type": "code",
   "execution_count": 7,
   "metadata": {},
   "outputs": [
    {
     "data": {
      "text/html": [
       "<div>\n",
       "<style scoped>\n",
       "    .dataframe tbody tr th:only-of-type {\n",
       "        vertical-align: middle;\n",
       "    }\n",
       "\n",
       "    .dataframe tbody tr th {\n",
       "        vertical-align: top;\n",
       "    }\n",
       "\n",
       "    .dataframe thead th {\n",
       "        text-align: right;\n",
       "    }\n",
       "</style>\n",
       "<table border=\"1\" class=\"dataframe\">\n",
       "  <thead>\n",
       "    <tr style=\"text-align: right;\">\n",
       "      <th></th>\n",
       "      <th>rank</th>\n",
       "      <th>elpd_loo</th>\n",
       "      <th>p_loo</th>\n",
       "      <th>elpd_diff</th>\n",
       "      <th>weight</th>\n",
       "      <th>se</th>\n",
       "      <th>dse</th>\n",
       "      <th>warning</th>\n",
       "      <th>scale</th>\n",
       "    </tr>\n",
       "  </thead>\n",
       "  <tbody>\n",
       "    <tr>\n",
       "      <th>m_acc_simple</th>\n",
       "      <td>0</td>\n",
       "      <td>-1934.137814</td>\n",
       "      <td>2.890788</td>\n",
       "      <td>0.000000</td>\n",
       "      <td>6.841569e-01</td>\n",
       "      <td>33.537324</td>\n",
       "      <td>0.000000</td>\n",
       "      <td>False</td>\n",
       "      <td>log</td>\n",
       "    </tr>\n",
       "    <tr>\n",
       "      <th>m_stim</th>\n",
       "      <td>1</td>\n",
       "      <td>-1934.223498</td>\n",
       "      <td>2.977101</td>\n",
       "      <td>0.085684</td>\n",
       "      <td>1.479114e-31</td>\n",
       "      <td>33.507170</td>\n",
       "      <td>0.045821</td>\n",
       "      <td>False</td>\n",
       "      <td>log</td>\n",
       "    </tr>\n",
       "    <tr>\n",
       "      <th>m_acc_stim_dummy</th>\n",
       "      <td>2</td>\n",
       "      <td>-1934.384055</td>\n",
       "      <td>3.830290</td>\n",
       "      <td>0.246242</td>\n",
       "      <td>3.158431e-01</td>\n",
       "      <td>33.546728</td>\n",
       "      <td>1.155514</td>\n",
       "      <td>False</td>\n",
       "      <td>log</td>\n",
       "    </tr>\n",
       "  </tbody>\n",
       "</table>\n",
       "</div>"
      ],
      "text/plain": [
       "                  rank     elpd_loo     p_loo  elpd_diff        weight  \\\n",
       "m_acc_simple         0 -1934.137814  2.890788   0.000000  6.841569e-01   \n",
       "m_stim               1 -1934.223498  2.977101   0.085684  1.479114e-31   \n",
       "m_acc_stim_dummy     2 -1934.384055  3.830290   0.246242  3.158431e-01   \n",
       "\n",
       "                         se       dse  warning scale  \n",
       "m_acc_simple      33.537324  0.000000    False   log  \n",
       "m_stim            33.507170  0.045821    False   log  \n",
       "m_acc_stim_dummy  33.546728  1.155514    False   log  "
      ]
     },
     "execution_count": 7,
     "metadata": {},
     "output_type": "execute_result"
    }
   ],
   "source": [
    "az.compare(\n",
    "    {\n",
    "        \"m_acc_simple\": m_acc_simple.traces,\n",
    "        \"m_acc_stim_dummy\": m_acc_stim_dummy.traces,\n",
    "        \"m_stim\": m_stim.traces,\n",
    "    }\n",
    ")"
   ]
  },
  {
   "cell_type": "markdown",
   "metadata": {},
   "source": [
    "## Stim coding advanced"
   ]
  },
  {
   "cell_type": "markdown",
   "metadata": {},
   "source": [
    "So far we focused on the `v` parameter. The are two relevant concepts concerning `bias` that we need to account for in the *stimulus coding* approach: \n",
    "\n",
    "#### 1. Bias in `v`:\n",
    "\n",
    "What is drift bias? Imagine our experimental design is such that the correct motion direction is left for half of the experiments and right for the other half. However, the sensory stimuli are such that the participant will nevertheless be accumulating excess evidence toward the left direction, even when the correct motion direction is right for a given trial.\n",
    "To account for drift bias, we simply include an `Intercept` term, which will capture the drift bias, so that the `direction` term will capture the *direction effect*, a symmetric shift around the `Intercept` (previously this `Intercept` was set to 0, or appeared in the model that operated on a dummy `stim` variable, which remember, creates a models that is too complex / has unnecessary extra parameters).\n",
    "\n",
    " #### 2. Bias in `z`:\n",
    "\n",
    "Bias in the `z` parameter gets a bit more tricky. What's the idea here? The `z` parameter represents the *starting point bias*. This notion is to some extend more intuitive when using *stimulus coding* than *accuracy coding*. A starting point bias under the stimulus coding approach is a bias toward a specific choice option (direction). A starting point bias under the accuracy coding approach is a ... bias toward a correct or incorrect response ... (?)\n",
    "\n",
    "By itself not a problem, but to create the often desired symmetry in the `z` parameter across `stim` conditions, keeping in mind that bias takes values in the interval `[0, 1]`, we need to account for the direction effect in the `z` parameter. So if in the `left` condition $z_i = z$, then in the `right` condition $z_i = 1 - z$.\n",
    "\n",
    "How might we incoporate this into our regression framework?\n",
    "\n",
    "Consider the following varible $\\mathbb{1}_{C_i = c}, \\text{for} \\ c \\in \\{left, right\\}$ which is 1 if the condition is `left` and 0 otherwise for a given trial. Now we can write the following function for $z_i$,\n",
    "\n",
    "\n",
    "$$  z_i = \\mathbb{1}_{(C_i = left)} \\cdot z + (1 - \\mathbb{1}_{(C_i = left)}) \\cdot (1 - z) $$\n",
    "\n",
    "which after a bit of algebra can be rewritten as,\n",
    "\n",
    "$$ z_i = \\left((2 \\cdot \\mathbb{1}_{(C_i = left)}) - 1\\right) \\cdot z + (1 - \\mathbb{1}_{(C_i = left)}) $$\n",
    "\n",
    "or,\n",
    "\n",
    "$$ z_i = \\left((2 \\cdot \\mathbb{1}_{(C_i = left)}) - 1\\right) \\cdot z + \\mathbb{1}_{(C_i = right)} $$\n",
    "\n",
    "This is a linear function of the `z` parameter, so we will be able to include it in our model, with a little bit of care.\n",
    "\n",
    "You will see the use of the `offset` function, to account for the `right` condition, and we will a priori massage our data a little to define the `left.stimcoding` and `right.stimcoding` covariates (dummy variables that identify the `left` and `right` conditions). "
   ]
  },
  {
   "cell_type": "markdown",
   "metadata": {},
   "source": [
    "### Defining the new covariates"
   ]
  },
  {
   "cell_type": "code",
   "execution_count": 8,
   "metadata": {},
   "outputs": [],
   "source": [
    "# Folling the math above, we can define the new covariates as follows:\n",
    "data_stim[\"left.stimcoding\"] = (2 * (data_stim[\"stim\"] == \"C-left\").astype(int)) - 1\n",
    "data_stim[\"right.stimcoding\"] = (data_stim[\"stim\"] == \"C-right\").astype(int)"
   ]
  },
  {
   "cell_type": "markdown",
   "metadata": {},
   "source": [
    "### Defining the model\n",
    "\n",
    "Below an example of a model that take into account both the bias in `v` and in `z`."
   ]
  },
  {
   "cell_type": "code",
   "execution_count": 9,
   "metadata": {},
   "outputs": [
    {
     "name": "stdout",
     "output_type": "stream",
     "text": [
      "Model initialized successfully.\n",
      "Using default initvals. \n",
      "\n"
     ]
    },
    {
     "name": "stderr",
     "output_type": "stream",
     "text": [
      "Initializing NUTS using adapt_diag...\n",
      "Multiprocess sampling (4 chains in 4 jobs)\n",
      "NUTS: [a, t, v_direction, z_left.stimcoding]\n"
     ]
    },
    {
     "data": {
      "application/vnd.jupyter.widget-view+json": {
       "model_id": "33e62e4e77fc4a53bea56984cf860fb2",
       "version_major": 2,
       "version_minor": 0
      },
      "text/plain": [
       "Output()"
      ]
     },
     "metadata": {},
     "output_type": "display_data"
    },
    {
     "data": {
      "text/html": [
       "<pre style=\"white-space:pre;overflow-x:auto;line-height:normal;font-family:Menlo,'DejaVu Sans Mono',consolas,'Courier New',monospace\"></pre>\n"
      ],
      "text/plain": []
     },
     "metadata": {},
     "output_type": "display_data"
    },
    {
     "name": "stderr",
     "output_type": "stream",
     "text": [
      "Sampling 4 chains for 500 tune and 500 draw iterations (2_000 + 2_000 draws total) took 11 seconds.\n",
      "100%|██████████| 2000/2000 [00:00<00:00, 2560.91it/s]\n"
     ]
    },
    {
     "data": {
      "text/html": [
       "<div>\n",
       "<style scoped>\n",
       "    .dataframe tbody tr th:only-of-type {\n",
       "        vertical-align: middle;\n",
       "    }\n",
       "\n",
       "    .dataframe tbody tr th {\n",
       "        vertical-align: top;\n",
       "    }\n",
       "\n",
       "    .dataframe thead th {\n",
       "        text-align: right;\n",
       "    }\n",
       "</style>\n",
       "<table border=\"1\" class=\"dataframe\">\n",
       "  <thead>\n",
       "    <tr style=\"text-align: right;\">\n",
       "      <th></th>\n",
       "      <th>mean</th>\n",
       "      <th>sd</th>\n",
       "      <th>hdi_3%</th>\n",
       "      <th>hdi_97%</th>\n",
       "      <th>mcse_mean</th>\n",
       "      <th>mcse_sd</th>\n",
       "      <th>ess_bulk</th>\n",
       "      <th>ess_tail</th>\n",
       "      <th>r_hat</th>\n",
       "    </tr>\n",
       "  </thead>\n",
       "  <tbody>\n",
       "    <tr>\n",
       "      <th>a</th>\n",
       "      <td>1.417</td>\n",
       "      <td>0.026</td>\n",
       "      <td>1.373</td>\n",
       "      <td>1.467</td>\n",
       "      <td>0.001</td>\n",
       "      <td>0.001</td>\n",
       "      <td>1303.0</td>\n",
       "      <td>1402.0</td>\n",
       "      <td>1.0</td>\n",
       "    </tr>\n",
       "    <tr>\n",
       "      <th>t</th>\n",
       "      <td>0.146</td>\n",
       "      <td>0.019</td>\n",
       "      <td>0.109</td>\n",
       "      <td>0.181</td>\n",
       "      <td>0.001</td>\n",
       "      <td>0.000</td>\n",
       "      <td>1263.0</td>\n",
       "      <td>1065.0</td>\n",
       "      <td>1.0</td>\n",
       "    </tr>\n",
       "    <tr>\n",
       "      <th>z_left.stimcoding</th>\n",
       "      <td>0.500</td>\n",
       "      <td>0.013</td>\n",
       "      <td>0.475</td>\n",
       "      <td>0.523</td>\n",
       "      <td>0.000</td>\n",
       "      <td>0.000</td>\n",
       "      <td>1225.0</td>\n",
       "      <td>1130.0</td>\n",
       "      <td>1.0</td>\n",
       "    </tr>\n",
       "    <tr>\n",
       "      <th>v_direction</th>\n",
       "      <td>0.532</td>\n",
       "      <td>0.034</td>\n",
       "      <td>0.469</td>\n",
       "      <td>0.595</td>\n",
       "      <td>0.001</td>\n",
       "      <td>0.001</td>\n",
       "      <td>1205.0</td>\n",
       "      <td>1349.0</td>\n",
       "      <td>1.0</td>\n",
       "    </tr>\n",
       "  </tbody>\n",
       "</table>\n",
       "</div>"
      ],
      "text/plain": [
       "                    mean     sd  hdi_3%  hdi_97%  mcse_mean  mcse_sd  \\\n",
       "a                  1.417  0.026   1.373    1.467      0.001    0.001   \n",
       "t                  0.146  0.019   0.109    0.181      0.001    0.000   \n",
       "z_left.stimcoding  0.500  0.013   0.475    0.523      0.000    0.000   \n",
       "v_direction        0.532  0.034   0.469    0.595      0.001    0.001   \n",
       "\n",
       "                   ess_bulk  ess_tail  r_hat  \n",
       "a                    1303.0    1402.0    1.0  \n",
       "t                    1263.0    1065.0    1.0  \n",
       "z_left.stimcoding    1225.0    1130.0    1.0  \n",
       "v_direction          1205.0    1349.0    1.0  "
      ]
     },
     "execution_count": 9,
     "metadata": {},
     "output_type": "execute_result"
    }
   ],
   "source": [
    "m_stim_inc_z = hssm.HSSM(\n",
    "    data=data_stim,\n",
    "    model=\"ddm\",\n",
    "    include=[\n",
    "        {\n",
    "            \"name\": \"v\",\n",
    "            \"formula\": \"v ~ 0 + direction\",\n",
    "            \"prior\": {\"direction\": {\"name\": \"Normal\", \"mu\": 0.0, \"sigma\": 3.0}},\n",
    "        },\n",
    "        {\n",
    "            \"name\": \"z\",\n",
    "            \"formula\": \"z ~ 0 + left.stimcoding + offset(right.stimcoding)\",\n",
    "            \"prior\": {\n",
    "                \"left.stimcoding\": {\"name\": \"Uniform\", \"lower\": 0.0, \"upper\": 1.0},\n",
    "            },\n",
    "        },\n",
    "    ],\n",
    ")\n",
    "\n",
    "m_stim_inc_z.sample(sampler=\"mcmc\", tune=500, draws=500)\n",
    "\n",
    "m_stim_inc_z.summary()"
   ]
  },
  {
   "cell_type": "code",
   "execution_count": 10,
   "metadata": {},
   "outputs": [
    {
     "data": {
      "text/html": [
       "<div>\n",
       "<style scoped>\n",
       "    .dataframe tbody tr th:only-of-type {\n",
       "        vertical-align: middle;\n",
       "    }\n",
       "\n",
       "    .dataframe tbody tr th {\n",
       "        vertical-align: top;\n",
       "    }\n",
       "\n",
       "    .dataframe thead th {\n",
       "        text-align: right;\n",
       "    }\n",
       "</style>\n",
       "<table border=\"1\" class=\"dataframe\">\n",
       "  <thead>\n",
       "    <tr style=\"text-align: right;\">\n",
       "      <th></th>\n",
       "      <th>rank</th>\n",
       "      <th>elpd_loo</th>\n",
       "      <th>p_loo</th>\n",
       "      <th>elpd_diff</th>\n",
       "      <th>weight</th>\n",
       "      <th>se</th>\n",
       "      <th>dse</th>\n",
       "      <th>warning</th>\n",
       "      <th>scale</th>\n",
       "    </tr>\n",
       "  </thead>\n",
       "  <tbody>\n",
       "    <tr>\n",
       "      <th>m_acc_simple</th>\n",
       "      <td>0</td>\n",
       "      <td>-1934.137814</td>\n",
       "      <td>2.890788</td>\n",
       "      <td>0.000000</td>\n",
       "      <td>0.684171</td>\n",
       "      <td>33.537324</td>\n",
       "      <td>0.000000</td>\n",
       "      <td>False</td>\n",
       "      <td>log</td>\n",
       "    </tr>\n",
       "    <tr>\n",
       "      <th>m_stim</th>\n",
       "      <td>1</td>\n",
       "      <td>-1934.223498</td>\n",
       "      <td>2.977101</td>\n",
       "      <td>0.085684</td>\n",
       "      <td>0.000000</td>\n",
       "      <td>33.507170</td>\n",
       "      <td>0.045821</td>\n",
       "      <td>False</td>\n",
       "      <td>log</td>\n",
       "    </tr>\n",
       "    <tr>\n",
       "      <th>m_acc_stim_dummy</th>\n",
       "      <td>2</td>\n",
       "      <td>-1934.384055</td>\n",
       "      <td>3.830290</td>\n",
       "      <td>0.246242</td>\n",
       "      <td>0.315829</td>\n",
       "      <td>33.546728</td>\n",
       "      <td>1.155514</td>\n",
       "      <td>False</td>\n",
       "      <td>log</td>\n",
       "    </tr>\n",
       "    <tr>\n",
       "      <th>m_stim_inc_z</th>\n",
       "      <td>3</td>\n",
       "      <td>-1935.079805</td>\n",
       "      <td>3.749734</td>\n",
       "      <td>0.941991</td>\n",
       "      <td>0.000000</td>\n",
       "      <td>33.535745</td>\n",
       "      <td>0.096578</td>\n",
       "      <td>False</td>\n",
       "      <td>log</td>\n",
       "    </tr>\n",
       "  </tbody>\n",
       "</table>\n",
       "</div>"
      ],
      "text/plain": [
       "                  rank     elpd_loo     p_loo  elpd_diff    weight         se  \\\n",
       "m_acc_simple         0 -1934.137814  2.890788   0.000000  0.684171  33.537324   \n",
       "m_stim               1 -1934.223498  2.977101   0.085684  0.000000  33.507170   \n",
       "m_acc_stim_dummy     2 -1934.384055  3.830290   0.246242  0.315829  33.546728   \n",
       "m_stim_inc_z         3 -1935.079805  3.749734   0.941991  0.000000  33.535745   \n",
       "\n",
       "                       dse  warning scale  \n",
       "m_acc_simple      0.000000    False   log  \n",
       "m_stim            0.045821    False   log  \n",
       "m_acc_stim_dummy  1.155514    False   log  \n",
       "m_stim_inc_z      0.096578    False   log  "
      ]
     },
     "execution_count": 10,
     "metadata": {},
     "output_type": "execute_result"
    }
   ],
   "source": [
    "az.compare(\n",
    "    {\n",
    "        \"m_acc_simple\": m_acc_simple.traces,\n",
    "        \"m_acc_stim_dummy\": m_acc_stim_dummy.traces,\n",
    "        \"m_stim\": m_stim.traces,\n",
    "        \"m_stim_inc_z\": m_stim_inc_z.traces,\n",
    "    }\n",
    ")"
   ]
  }
 ],
 "metadata": {
  "kernelspec": {
   "display_name": ".venv",
   "language": "python",
   "name": "python3"
  },
  "language_info": {
   "codemirror_mode": {
    "name": "ipython",
    "version": 3
   },
   "file_extension": ".py",
   "mimetype": "text/x-python",
   "name": "python",
   "nbconvert_exporter": "python",
   "pygments_lexer": "ipython3",
   "version": "3.11.12"
  }
 },
 "nbformat": 4,
 "nbformat_minor": 2
}
