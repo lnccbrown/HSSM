{
 "cells": [
  {
   "cell_type": "markdown",
   "metadata": {},
   "source": [
    "# Stimulus Coding Example\n",
    "\n",
    "In this tutorial we illustrate how to use the regression approach to model the effect of stimulus coding on the drift rate parameter of the DDM."
   ]
  },
  {
   "cell_type": "markdown",
   "metadata": {},
   "source": [
    "### Import Modules"
   ]
  },
  {
   "cell_type": "code",
   "execution_count": 1,
   "metadata": {},
   "outputs": [],
   "source": [
    "from copy import deepcopy\n",
    "\n",
    "import arviz as az\n",
    "import pandas as pd\n",
    "\n",
    "import hssm"
   ]
  },
  {
   "cell_type": "markdown",
   "metadata": {},
   "source": [
    "## What is Stimulus Coding?\n",
    "\n",
    "There are two core approaches to coding the stimuli when fitting paramters of 2-choice SSMs (the discussion here is simplified, to bring across the core ideas, de facto ideas from both approaches can be mixed):\n",
    "\n",
    "1. *Accuracy coding*: Responses are treated as **correct** or **incorrect**\n",
    "2. *Stimulus coding*: Responses are treated as **stimulus_1** or **stimulus_2**\n",
    "\n",
    "Take as a running example a simple random dot motion task with two conditions, `left` and `right`. Both conditions are equally *difficult*, but for half of the experiments the correct motion direction is left, and for the other half it is right.\n",
    "\n",
    "So it will be reasonable to assume that, ceteris paribus, nothing should really change in terms of participant behavior, apart from symmetrically preferring right to left when it is correct and vice versa. \n",
    "\n",
    "Now, when applying *Accuracy coding*, we would expect the drift rate to be the same for both conditions, any condition effect to vanish by the time we code responses as correct or incorrect.\n",
    "\n",
    "When we apply *Stimulus coding* on the other hand, we actively need to account for the direction change (since we now attach our *response values*, e.g. `-1`, `1`, permanently to specific choice-options, regardless correctness). \n",
    "\n",
    "To formulate a model that is equivalent to the one described above in terms of *accuracy coding*, we again want to estimate only a single `v` parameter, but we have to respect the direction change in response when respectively completing experiment conditions `left` and `right`.\n",
    "\n",
    "Note that an important aspect of what we describe above is that we want to estimate a single `v` parameter in each of the two *coding approaches*.\n",
    "\n",
    "For *Accuracy coding* we simply estimate a single `v` parameter, and no extra work is necessary.\n",
    "\n",
    "For *Stimulus coding* we need to account for **symmetric** shift in direction from the two experiment conditions. One way to do this, is the following:\n",
    "\n",
    "We can simply assign a covariate, `direction`, which codes `-1` for `left` and `1` for `right`.\n",
    "Then we use the following regression formula for the `v` parameter: `v ~ 0 + direction`. \n",
    "\n",
    "Note that we are *not using an intercept* here.\n",
    "\n",
    "Let's how this works in practice."
   ]
  },
  {
   "cell_type": "markdown",
   "metadata": {},
   "source": [
    "## Simulate Data\n"
   ]
  },
  {
   "cell_type": "code",
   "execution_count": 2,
   "metadata": {},
   "outputs": [
    {
     "name": "stdout",
     "output_type": "stream",
     "text": [
      "         rt  response    stim  direction  response_acc\n",
      "0  1.935823       1.0  C-left         -1           1.0\n",
      "1  1.392043       1.0  C-left         -1           1.0\n",
      "2  2.474422       1.0  C-left         -1           1.0\n",
      "3  1.984574       1.0  C-left         -1           1.0\n",
      "4  6.067898       1.0  C-left         -1           1.0\n",
      "         rt  response    stim  direction  response_acc\n",
      "0  1.935823      -1.0  C-left         -1           1.0\n",
      "1  1.392043      -1.0  C-left         -1           1.0\n",
      "2  2.474422      -1.0  C-left         -1           1.0\n",
      "3  1.984574      -1.0  C-left         -1           1.0\n",
      "4  6.067898      -1.0  C-left         -1           1.0\n"
     ]
    }
   ],
   "source": [
    "# Condition 1\n",
    "stim_1 = hssm.simulate_data(\n",
    "    model=\"ddm\", theta=dict(v=-0.5, a=1.5, z=0.5, t=0.1), size=500\n",
    ")\n",
    "\n",
    "stim_1[\"stim\"] = \"C-left\"\n",
    "stim_1[\"direction\"] = -1\n",
    "stim_1[\"response_acc\"] = (-1) * stim_1[\"response\"]\n",
    "\n",
    "# Condition 2\n",
    "stim_2 = hssm.simulate_data(\n",
    "    model=\"ddm\", theta=dict(v=0.5, a=1.5, z=0.5, t=0.1), size=500\n",
    ")\n",
    "\n",
    "stim_2[\"stim\"] = \"C-right\"\n",
    "stim_2[\"direction\"] = 1\n",
    "stim_2[\"response_acc\"] = stim_2[\"response\"]\n",
    "\n",
    "data_stim = pd.concat([stim_1, stim_2]).reset_index(drop=True)\n",
    "\n",
    "data_acc = deepcopy(data_stim)\n",
    "data_acc[\"response\"] = data_acc[\"response_acc\"]\n",
    "\n",
    "print(data_acc.head())\n",
    "print(data_stim.head())"
   ]
  },
  {
   "cell_type": "markdown",
   "metadata": {},
   "source": [
    "## Set up Models"
   ]
  },
  {
   "cell_type": "markdown",
   "metadata": {},
   "source": [
    "### Accuracy Coding\n"
   ]
  },
  {
   "cell_type": "code",
   "execution_count": 3,
   "metadata": {},
   "outputs": [
    {
     "name": "stdout",
     "output_type": "stream",
     "text": [
      "Model initialized successfully.\n",
      "Using default initvals. \n",
      "\n"
     ]
    },
    {
     "name": "stderr",
     "output_type": "stream",
     "text": [
      "Initializing NUTS using adapt_diag...\n",
      "Multiprocess sampling (4 chains in 4 jobs)\n",
      "NUTS: [t, a, v_Intercept, v_stim]\n"
     ]
    },
    {
     "data": {
      "application/vnd.jupyter.widget-view+json": {
       "model_id": "0b6e7f5ad8c447bf9c0add898d99f837",
       "version_major": 2,
       "version_minor": 0
      },
      "text/plain": [
       "Output()"
      ]
     },
     "metadata": {},
     "output_type": "display_data"
    },
    {
     "data": {
      "text/html": [
       "<pre style=\"white-space:pre;overflow-x:auto;line-height:normal;font-family:Menlo,'DejaVu Sans Mono',consolas,'Courier New',monospace\"></pre>\n"
      ],
      "text/plain": []
     },
     "metadata": {},
     "output_type": "display_data"
    },
    {
     "name": "stderr",
     "output_type": "stream",
     "text": [
      "Sampling 4 chains for 500 tune and 500 draw iterations (2_000 + 2_000 draws total) took 7 seconds.\n",
      "/Users/afengler/Library/CloudStorage/OneDrive-Personal/proj_hssm/HSSM/.venv/lib/python3.12/site-packages/pymc/pytensorf.py:958: FutureWarning: compile_pymc was renamed to compile. Old name will be removed in a future release of PyMC\n",
      "  warnings.warn(\n",
      "100%|██████████| 2000/2000 [00:00<00:00, 2732.49it/s]\n"
     ]
    },
    {
     "data": {
      "text/html": [
       "<div>\n",
       "<style scoped>\n",
       "    .dataframe tbody tr th:only-of-type {\n",
       "        vertical-align: middle;\n",
       "    }\n",
       "\n",
       "    .dataframe tbody tr th {\n",
       "        vertical-align: top;\n",
       "    }\n",
       "\n",
       "    .dataframe thead th {\n",
       "        text-align: right;\n",
       "    }\n",
       "</style>\n",
       "<table border=\"1\" class=\"dataframe\">\n",
       "  <thead>\n",
       "    <tr style=\"text-align: right;\">\n",
       "      <th></th>\n",
       "      <th>mean</th>\n",
       "      <th>sd</th>\n",
       "      <th>hdi_3%</th>\n",
       "      <th>hdi_97%</th>\n",
       "      <th>mcse_mean</th>\n",
       "      <th>mcse_sd</th>\n",
       "      <th>ess_bulk</th>\n",
       "      <th>ess_tail</th>\n",
       "      <th>r_hat</th>\n",
       "    </tr>\n",
       "  </thead>\n",
       "  <tbody>\n",
       "    <tr>\n",
       "      <th>t</th>\n",
       "      <td>0.125</td>\n",
       "      <td>0.021</td>\n",
       "      <td>0.086</td>\n",
       "      <td>0.164</td>\n",
       "      <td>0.001</td>\n",
       "      <td>0.000</td>\n",
       "      <td>1688.0</td>\n",
       "      <td>1333.0</td>\n",
       "      <td>1.0</td>\n",
       "    </tr>\n",
       "    <tr>\n",
       "      <th>a</th>\n",
       "      <td>1.546</td>\n",
       "      <td>0.030</td>\n",
       "      <td>1.493</td>\n",
       "      <td>1.603</td>\n",
       "      <td>0.001</td>\n",
       "      <td>0.001</td>\n",
       "      <td>1667.0</td>\n",
       "      <td>1600.0</td>\n",
       "      <td>1.0</td>\n",
       "    </tr>\n",
       "    <tr>\n",
       "      <th>v_stim[C-right]</th>\n",
       "      <td>-0.052</td>\n",
       "      <td>0.048</td>\n",
       "      <td>-0.140</td>\n",
       "      <td>0.040</td>\n",
       "      <td>0.001</td>\n",
       "      <td>0.001</td>\n",
       "      <td>1709.0</td>\n",
       "      <td>1342.0</td>\n",
       "      <td>1.0</td>\n",
       "    </tr>\n",
       "    <tr>\n",
       "      <th>v_Intercept</th>\n",
       "      <td>0.612</td>\n",
       "      <td>0.037</td>\n",
       "      <td>0.540</td>\n",
       "      <td>0.680</td>\n",
       "      <td>0.001</td>\n",
       "      <td>0.001</td>\n",
       "      <td>1594.0</td>\n",
       "      <td>1540.0</td>\n",
       "      <td>1.0</td>\n",
       "    </tr>\n",
       "  </tbody>\n",
       "</table>\n",
       "</div>"
      ],
      "text/plain": [
       "                  mean     sd  hdi_3%  hdi_97%  mcse_mean  mcse_sd  ess_bulk  \\\n",
       "t                0.125  0.021   0.086    0.164      0.001    0.000    1688.0   \n",
       "a                1.546  0.030   1.493    1.603      0.001    0.001    1667.0   \n",
       "v_stim[C-right] -0.052  0.048  -0.140    0.040      0.001    0.001    1709.0   \n",
       "v_Intercept      0.612  0.037   0.540    0.680      0.001    0.001    1594.0   \n",
       "\n",
       "                 ess_tail  r_hat  \n",
       "t                  1333.0    1.0  \n",
       "a                  1600.0    1.0  \n",
       "v_stim[C-right]    1342.0    1.0  \n",
       "v_Intercept        1540.0    1.0  "
      ]
     },
     "execution_count": 3,
     "metadata": {},
     "output_type": "execute_result"
    }
   ],
   "source": [
    "m_acc_stim_dummy = hssm.HSSM(\n",
    "    data=data_acc,\n",
    "    model=\"ddm\",\n",
    "    include=[{\"name\": \"v\", \"formula\": \"v ~ 1 + stim\"}],\n",
    "    z=0.5,\n",
    ")\n",
    "\n",
    "m_acc_stim_dummy.sample(sampler=\"mcmc\", tune=500, draws=500)\n",
    "\n",
    "m_acc_stim_dummy.summary()"
   ]
  },
  {
   "cell_type": "code",
   "execution_count": 4,
   "metadata": {},
   "outputs": [
    {
     "name": "stdout",
     "output_type": "stream",
     "text": [
      "Model initialized successfully.\n",
      "Using default initvals. \n",
      "\n"
     ]
    },
    {
     "name": "stderr",
     "output_type": "stream",
     "text": [
      "Initializing NUTS using adapt_diag...\n",
      "Multiprocess sampling (4 chains in 4 jobs)\n",
      "NUTS: [t, a, v_Intercept]\n"
     ]
    },
    {
     "data": {
      "application/vnd.jupyter.widget-view+json": {
       "model_id": "50a88a7c98894656bdfd99b751f4ae24",
       "version_major": 2,
       "version_minor": 0
      },
      "text/plain": [
       "Output()"
      ]
     },
     "metadata": {},
     "output_type": "display_data"
    },
    {
     "data": {
      "text/html": [
       "<pre style=\"white-space:pre;overflow-x:auto;line-height:normal;font-family:Menlo,'DejaVu Sans Mono',consolas,'Courier New',monospace\"></pre>\n"
      ],
      "text/plain": []
     },
     "metadata": {},
     "output_type": "display_data"
    },
    {
     "name": "stderr",
     "output_type": "stream",
     "text": [
      "Sampling 4 chains for 500 tune and 500 draw iterations (2_000 + 2_000 draws total) took 8 seconds.\n",
      "/Users/afengler/Library/CloudStorage/OneDrive-Personal/proj_hssm/HSSM/.venv/lib/python3.12/site-packages/pymc/pytensorf.py:958: FutureWarning: compile_pymc was renamed to compile. Old name will be removed in a future release of PyMC\n",
      "  warnings.warn(\n",
      "100%|██████████| 2000/2000 [00:00<00:00, 2758.42it/s]\n"
     ]
    },
    {
     "data": {
      "text/html": [
       "<div>\n",
       "<style scoped>\n",
       "    .dataframe tbody tr th:only-of-type {\n",
       "        vertical-align: middle;\n",
       "    }\n",
       "\n",
       "    .dataframe tbody tr th {\n",
       "        vertical-align: top;\n",
       "    }\n",
       "\n",
       "    .dataframe thead th {\n",
       "        text-align: right;\n",
       "    }\n",
       "</style>\n",
       "<table border=\"1\" class=\"dataframe\">\n",
       "  <thead>\n",
       "    <tr style=\"text-align: right;\">\n",
       "      <th></th>\n",
       "      <th>mean</th>\n",
       "      <th>sd</th>\n",
       "      <th>hdi_3%</th>\n",
       "      <th>hdi_97%</th>\n",
       "      <th>mcse_mean</th>\n",
       "      <th>mcse_sd</th>\n",
       "      <th>ess_bulk</th>\n",
       "      <th>ess_tail</th>\n",
       "      <th>r_hat</th>\n",
       "    </tr>\n",
       "  </thead>\n",
       "  <tbody>\n",
       "    <tr>\n",
       "      <th>t</th>\n",
       "      <td>0.124</td>\n",
       "      <td>0.021</td>\n",
       "      <td>0.082</td>\n",
       "      <td>0.159</td>\n",
       "      <td>0.001</td>\n",
       "      <td>0.001</td>\n",
       "      <td>1216.0</td>\n",
       "      <td>893.0</td>\n",
       "      <td>1.00</td>\n",
       "    </tr>\n",
       "    <tr>\n",
       "      <th>a</th>\n",
       "      <td>1.548</td>\n",
       "      <td>0.030</td>\n",
       "      <td>1.491</td>\n",
       "      <td>1.602</td>\n",
       "      <td>0.001</td>\n",
       "      <td>0.001</td>\n",
       "      <td>1290.0</td>\n",
       "      <td>1204.0</td>\n",
       "      <td>1.00</td>\n",
       "    </tr>\n",
       "    <tr>\n",
       "      <th>v_Intercept</th>\n",
       "      <td>0.585</td>\n",
       "      <td>0.026</td>\n",
       "      <td>0.537</td>\n",
       "      <td>0.637</td>\n",
       "      <td>0.001</td>\n",
       "      <td>0.001</td>\n",
       "      <td>1282.0</td>\n",
       "      <td>1350.0</td>\n",
       "      <td>1.01</td>\n",
       "    </tr>\n",
       "  </tbody>\n",
       "</table>\n",
       "</div>"
      ],
      "text/plain": [
       "              mean     sd  hdi_3%  hdi_97%  mcse_mean  mcse_sd  ess_bulk  \\\n",
       "t            0.124  0.021   0.082    0.159      0.001    0.001    1216.0   \n",
       "a            1.548  0.030   1.491    1.602      0.001    0.001    1290.0   \n",
       "v_Intercept  0.585  0.026   0.537    0.637      0.001    0.001    1282.0   \n",
       "\n",
       "             ess_tail  r_hat  \n",
       "t               893.0   1.00  \n",
       "a              1204.0   1.00  \n",
       "v_Intercept    1350.0   1.01  "
      ]
     },
     "execution_count": 4,
     "metadata": {},
     "output_type": "execute_result"
    }
   ],
   "source": [
    "m_acc_simple = hssm.HSSM(\n",
    "    data=data_acc,\n",
    "    model=\"ddm\",\n",
    "    include=[\n",
    "        {\n",
    "            \"name\": \"v\",\n",
    "            \"formula\": \"v ~ 1\",\n",
    "            \"prior\": {\"Intercept\": {\"name\": \"Normal\", \"mu\": 0.0, \"sigma\": 3.0}},\n",
    "        }\n",
    "    ],\n",
    "    z=0.5,\n",
    ")\n",
    "\n",
    "m_acc_simple.sample(sampler=\"mcmc\", tune=500, draws=500)\n",
    "\n",
    "m_acc_simple.summary()"
   ]
  },
  {
   "cell_type": "code",
   "execution_count": 5,
   "metadata": {},
   "outputs": [
    {
     "data": {
      "text/html": [
       "<div>\n",
       "<style scoped>\n",
       "    .dataframe tbody tr th:only-of-type {\n",
       "        vertical-align: middle;\n",
       "    }\n",
       "\n",
       "    .dataframe tbody tr th {\n",
       "        vertical-align: top;\n",
       "    }\n",
       "\n",
       "    .dataframe thead th {\n",
       "        text-align: right;\n",
       "    }\n",
       "</style>\n",
       "<table border=\"1\" class=\"dataframe\">\n",
       "  <thead>\n",
       "    <tr style=\"text-align: right;\">\n",
       "      <th></th>\n",
       "      <th>rank</th>\n",
       "      <th>elpd_loo</th>\n",
       "      <th>p_loo</th>\n",
       "      <th>elpd_diff</th>\n",
       "      <th>weight</th>\n",
       "      <th>se</th>\n",
       "      <th>dse</th>\n",
       "      <th>warning</th>\n",
       "      <th>scale</th>\n",
       "    </tr>\n",
       "  </thead>\n",
       "  <tbody>\n",
       "    <tr>\n",
       "      <th>m_acc_simple</th>\n",
       "      <td>0</td>\n",
       "      <td>-1984.071347</td>\n",
       "      <td>2.891709</td>\n",
       "      <td>0.000000</td>\n",
       "      <td>0.89952</td>\n",
       "      <td>34.937772</td>\n",
       "      <td>0.000000</td>\n",
       "      <td>False</td>\n",
       "      <td>log</td>\n",
       "    </tr>\n",
       "    <tr>\n",
       "      <th>m_acc_stim_dummy</th>\n",
       "      <td>1</td>\n",
       "      <td>-1984.485112</td>\n",
       "      <td>3.889187</td>\n",
       "      <td>0.413765</td>\n",
       "      <td>0.10048</td>\n",
       "      <td>35.007229</td>\n",
       "      <td>1.018139</td>\n",
       "      <td>False</td>\n",
       "      <td>log</td>\n",
       "    </tr>\n",
       "  </tbody>\n",
       "</table>\n",
       "</div>"
      ],
      "text/plain": [
       "                  rank     elpd_loo     p_loo  elpd_diff   weight         se  \\\n",
       "m_acc_simple         0 -1984.071347  2.891709   0.000000  0.89952  34.937772   \n",
       "m_acc_stim_dummy     1 -1984.485112  3.889187   0.413765  0.10048  35.007229   \n",
       "\n",
       "                       dse  warning scale  \n",
       "m_acc_simple      0.000000    False   log  \n",
       "m_acc_stim_dummy  1.018139    False   log  "
      ]
     },
     "execution_count": 5,
     "metadata": {},
     "output_type": "execute_result"
    }
   ],
   "source": [
    "az.compare({\"m_acc_simple\": m_acc_simple.traces, \n",
    "            \"m_acc_stim_dummy\": m_acc_stim_dummy.traces})"
   ]
  },
  {
   "cell_type": "markdown",
   "metadata": {},
   "source": [
    "## Stim Coding"
   ]
  },
  {
   "cell_type": "code",
   "execution_count": 6,
   "metadata": {},
   "outputs": [
    {
     "name": "stdout",
     "output_type": "stream",
     "text": [
      "Model initialized successfully.\n",
      "Using default initvals. \n",
      "\n"
     ]
    },
    {
     "name": "stderr",
     "output_type": "stream",
     "text": [
      "Initializing NUTS using adapt_diag...\n",
      "Multiprocess sampling (4 chains in 4 jobs)\n",
      "NUTS: [t, a, v_direction]\n"
     ]
    },
    {
     "data": {
      "application/vnd.jupyter.widget-view+json": {
       "model_id": "6924f5dd36e544c8a6f52de94ec8dc40",
       "version_major": 2,
       "version_minor": 0
      },
      "text/plain": [
       "Output()"
      ]
     },
     "metadata": {},
     "output_type": "display_data"
    },
    {
     "data": {
      "text/html": [
       "<pre style=\"white-space:pre;overflow-x:auto;line-height:normal;font-family:Menlo,'DejaVu Sans Mono',consolas,'Courier New',monospace\"></pre>\n"
      ],
      "text/plain": []
     },
     "metadata": {},
     "output_type": "display_data"
    },
    {
     "name": "stderr",
     "output_type": "stream",
     "text": [
      "Sampling 4 chains for 500 tune and 500 draw iterations (2_000 + 2_000 draws total) took 7 seconds.\n",
      "/Users/afengler/Library/CloudStorage/OneDrive-Personal/proj_hssm/HSSM/.venv/lib/python3.12/site-packages/pymc/pytensorf.py:958: FutureWarning: compile_pymc was renamed to compile. Old name will be removed in a future release of PyMC\n",
      "  warnings.warn(\n",
      "100%|██████████| 2000/2000 [00:00<00:00, 2758.27it/s]\n"
     ]
    },
    {
     "data": {
      "text/html": [
       "<div>\n",
       "<style scoped>\n",
       "    .dataframe tbody tr th:only-of-type {\n",
       "        vertical-align: middle;\n",
       "    }\n",
       "\n",
       "    .dataframe tbody tr th {\n",
       "        vertical-align: top;\n",
       "    }\n",
       "\n",
       "    .dataframe thead th {\n",
       "        text-align: right;\n",
       "    }\n",
       "</style>\n",
       "<table border=\"1\" class=\"dataframe\">\n",
       "  <thead>\n",
       "    <tr style=\"text-align: right;\">\n",
       "      <th></th>\n",
       "      <th>mean</th>\n",
       "      <th>sd</th>\n",
       "      <th>hdi_3%</th>\n",
       "      <th>hdi_97%</th>\n",
       "      <th>mcse_mean</th>\n",
       "      <th>mcse_sd</th>\n",
       "      <th>ess_bulk</th>\n",
       "      <th>ess_tail</th>\n",
       "      <th>r_hat</th>\n",
       "    </tr>\n",
       "  </thead>\n",
       "  <tbody>\n",
       "    <tr>\n",
       "      <th>t</th>\n",
       "      <td>0.126</td>\n",
       "      <td>0.021</td>\n",
       "      <td>0.087</td>\n",
       "      <td>0.165</td>\n",
       "      <td>0.001</td>\n",
       "      <td>0.000</td>\n",
       "      <td>1060.0</td>\n",
       "      <td>1018.0</td>\n",
       "      <td>1.0</td>\n",
       "    </tr>\n",
       "    <tr>\n",
       "      <th>a</th>\n",
       "      <td>1.544</td>\n",
       "      <td>0.030</td>\n",
       "      <td>1.487</td>\n",
       "      <td>1.597</td>\n",
       "      <td>0.001</td>\n",
       "      <td>0.001</td>\n",
       "      <td>1016.0</td>\n",
       "      <td>1112.0</td>\n",
       "      <td>1.0</td>\n",
       "    </tr>\n",
       "    <tr>\n",
       "      <th>v_direction</th>\n",
       "      <td>0.584</td>\n",
       "      <td>0.026</td>\n",
       "      <td>0.537</td>\n",
       "      <td>0.635</td>\n",
       "      <td>0.001</td>\n",
       "      <td>0.001</td>\n",
       "      <td>1297.0</td>\n",
       "      <td>1328.0</td>\n",
       "      <td>1.0</td>\n",
       "    </tr>\n",
       "  </tbody>\n",
       "</table>\n",
       "</div>"
      ],
      "text/plain": [
       "              mean     sd  hdi_3%  hdi_97%  mcse_mean  mcse_sd  ess_bulk  \\\n",
       "t            0.126  0.021   0.087    0.165      0.001    0.000    1060.0   \n",
       "a            1.544  0.030   1.487    1.597      0.001    0.001    1016.0   \n",
       "v_direction  0.584  0.026   0.537    0.635      0.001    0.001    1297.0   \n",
       "\n",
       "             ess_tail  r_hat  \n",
       "t              1018.0    1.0  \n",
       "a              1112.0    1.0  \n",
       "v_direction    1328.0    1.0  "
      ]
     },
     "execution_count": 6,
     "metadata": {},
     "output_type": "execute_result"
    }
   ],
   "source": [
    "m_stim = hssm.HSSM(\n",
    "    data=data_stim,\n",
    "    model=\"ddm\",\n",
    "    include=[\n",
    "        {\n",
    "            \"name\": \"v\",\n",
    "            \"formula\": \"v ~ 0 + direction\",\n",
    "            \"prior\": {\"direction\": {\"name\": \"Normal\", \"mu\": 0.0, \"sigma\": 3.0}},\n",
    "        }\n",
    "    ],\n",
    "    z=0.5,\n",
    ")\n",
    "\n",
    "m_stim.sample(sampler=\"mcmc\", tune=500, draws=500)\n",
    "\n",
    "m_stim.summary()"
   ]
  },
  {
   "cell_type": "code",
   "execution_count": 7,
   "metadata": {},
   "outputs": [
    {
     "data": {
      "text/html": [
       "<div>\n",
       "<style scoped>\n",
       "    .dataframe tbody tr th:only-of-type {\n",
       "        vertical-align: middle;\n",
       "    }\n",
       "\n",
       "    .dataframe tbody tr th {\n",
       "        vertical-align: top;\n",
       "    }\n",
       "\n",
       "    .dataframe thead th {\n",
       "        text-align: right;\n",
       "    }\n",
       "</style>\n",
       "<table border=\"1\" class=\"dataframe\">\n",
       "  <thead>\n",
       "    <tr style=\"text-align: right;\">\n",
       "      <th></th>\n",
       "      <th>rank</th>\n",
       "      <th>elpd_loo</th>\n",
       "      <th>p_loo</th>\n",
       "      <th>elpd_diff</th>\n",
       "      <th>weight</th>\n",
       "      <th>se</th>\n",
       "      <th>dse</th>\n",
       "      <th>warning</th>\n",
       "      <th>scale</th>\n",
       "    </tr>\n",
       "  </thead>\n",
       "  <tbody>\n",
       "    <tr>\n",
       "      <th>m_acc_simple</th>\n",
       "      <td>0</td>\n",
       "      <td>-1984.071347</td>\n",
       "      <td>2.891709</td>\n",
       "      <td>0.000000</td>\n",
       "      <td>0.899303</td>\n",
       "      <td>34.937772</td>\n",
       "      <td>0.000000</td>\n",
       "      <td>False</td>\n",
       "      <td>log</td>\n",
       "    </tr>\n",
       "    <tr>\n",
       "      <th>m_stim</th>\n",
       "      <td>1</td>\n",
       "      <td>-1984.083760</td>\n",
       "      <td>2.914335</td>\n",
       "      <td>0.012413</td>\n",
       "      <td>0.000000</td>\n",
       "      <td>34.947440</td>\n",
       "      <td>0.120808</td>\n",
       "      <td>False</td>\n",
       "      <td>log</td>\n",
       "    </tr>\n",
       "    <tr>\n",
       "      <th>m_acc_stim_dummy</th>\n",
       "      <td>2</td>\n",
       "      <td>-1984.485112</td>\n",
       "      <td>3.889187</td>\n",
       "      <td>0.413765</td>\n",
       "      <td>0.100697</td>\n",
       "      <td>35.007229</td>\n",
       "      <td>1.018139</td>\n",
       "      <td>False</td>\n",
       "      <td>log</td>\n",
       "    </tr>\n",
       "  </tbody>\n",
       "</table>\n",
       "</div>"
      ],
      "text/plain": [
       "                  rank     elpd_loo     p_loo  elpd_diff    weight         se  \\\n",
       "m_acc_simple         0 -1984.071347  2.891709   0.000000  0.899303  34.937772   \n",
       "m_stim               1 -1984.083760  2.914335   0.012413  0.000000  34.947440   \n",
       "m_acc_stim_dummy     2 -1984.485112  3.889187   0.413765  0.100697  35.007229   \n",
       "\n",
       "                       dse  warning scale  \n",
       "m_acc_simple      0.000000    False   log  \n",
       "m_stim            0.120808    False   log  \n",
       "m_acc_stim_dummy  1.018139    False   log  "
      ]
     },
     "execution_count": 7,
     "metadata": {},
     "output_type": "execute_result"
    }
   ],
   "source": [
    "az.compare(\n",
    "    {\n",
    "        \"m_acc_simple\": m_acc_simple.traces,\n",
    "        \"m_acc_stim_dummy\": m_acc_stim_dummy.traces,\n",
    "        \"m_stim\": m_stim.traces,\n",
    "    }\n",
    ")"
   ]
  },
  {
   "cell_type": "markdown",
   "metadata": {},
   "source": [
    "## Stim coding advanced"
   ]
  },
  {
   "cell_type": "markdown",
   "metadata": {},
   "source": [
    "So far we focused on the `v` parameter. The are two relevant concepts concerning `bias` that we need to account for in the *stimulus coding* approach: \n",
    "\n",
    "#### 1. Bias in `v`:\n",
    "\n",
    "What is drift bias? Imagine our experimental design is such that the correct motion direction is left for half of the experiments and right for the other half. However, the sensory stimuli are such that the participant will nevertheless be accumulating excess evidence toward the left direction, even when the correct motion direction is right for a given trial.\n",
    "To account for drift bias, we simply include an `Intercept` term, which will capture the drift bias, so that the `direction` term will capture the *direction effect*, a symmetric shift around the `Intercept` (previously this `Intercept` was set to 0, or appeared in the model that operated on a dummy `stim` variable, which remember, creates a models that is too complex / has unnecessary extra parameters).\n",
    "\n",
    " #### 2. Bias in `z`:\n",
    "\n",
    "Bias in the `z` parameter gets a bit more tricky. What's the idea here? The `z` parameter represents the *starting point bias*. This notion is to some extend more intuitive when using *stimulus coding* than *accuracy coding*. A starting point bias under the stimulus coding approach is a bias toward a specific choice option (direction). A starting point bias under the accuracy coding approach is a ... bias toward a correct or incorrect response ... (?)\n",
    "\n",
    "By itself not a problem, but to create the often desired symmetry in the `z` parameter across `stim` conditions, keeping in mind that bias takes values in the interval `[0, 1]`, we need to account for the direction effect in the `z` parameter. So if in the `left` condition $z_i = z$, then in the `right` condition $z_i = 1 - z$.\n",
    "\n",
    "How might we incoporate this into our regression framework?\n",
    "\n",
    "Consider the following varible $\\mathbb{1}_{C_i = c}, \\text{for} \\ c \\in \\{left, right\\}$ which is 1 if the condition is `left` and 0 otherwise for a given trial. Now we can write the following function for $z_i$,\n",
    "\n",
    "\n",
    "$$  z_i = \\mathbb{1}_{(C_i = left)} \\cdot z + (1 - \\mathbb{1}_{(C_i = left)}) \\cdot (1 - z) $$\n",
    "\n",
    "which after a bit of algebra can be rewritten as,\n",
    "\n",
    "$$ z_i = \\left((2 \\cdot \\mathbb{1}_{(C_i = left)}) - 1\\right) \\cdot z + (1 - \\mathbb{1}_{(C_i = left)}) $$\n",
    "\n",
    "or,\n",
    "\n",
    "$$ z_i = \\left((2 \\cdot \\mathbb{1}_{(C_i = left)}) - 1\\right) \\cdot z + \\mathbb{1}_{(C_i = right)} $$\n",
    "\n",
    "This is a linear function of the `z` parameter, so we will be able to include it in our model, with a little bit of care.\n",
    "\n",
    "You will see the use of the `offset` function, to account for the `right` condition, and we will a priori massage our data a little to define the `left.stimcoding` and `right.stimcoding` covariates (dummy variables that identify the `left` and `right` conditions). "
   ]
  },
  {
   "cell_type": "markdown",
   "metadata": {},
   "source": [
    "### Defining the new covariates"
   ]
  },
  {
   "cell_type": "code",
   "execution_count": 8,
   "metadata": {},
   "outputs": [],
   "source": [
    "# Folling the math above, we can define the new covariates as follows:\n",
    "data_stim[\"left.stimcoding\"] = (2 * (data_stim[\"stim\"] == \"C-left\").astype(int)) - 1\n",
    "data_stim[\"right.stimcoding\"] = (data_stim[\"stim\"] == \"C-right\").astype(int)"
   ]
  },
  {
   "cell_type": "markdown",
   "metadata": {},
   "source": [
    "### Defining the model\n",
    "\n",
    "Below an example of a model that take into account both the bias in `v` and in `z`."
   ]
  },
  {
   "cell_type": "code",
   "execution_count": 9,
   "metadata": {},
   "outputs": [
    {
     "name": "stdout",
     "output_type": "stream",
     "text": [
      "Model initialized successfully.\n",
      "Using default initvals. \n",
      "\n"
     ]
    },
    {
     "name": "stderr",
     "output_type": "stream",
     "text": [
      "Initializing NUTS using adapt_diag...\n",
      "Multiprocess sampling (4 chains in 4 jobs)\n",
      "NUTS: [t, a, v_direction, z_left.stimcoding]\n"
     ]
    },
    {
     "data": {
      "application/vnd.jupyter.widget-view+json": {
       "model_id": "3efdf7aeb4864a6689e0f493adf13bf1",
       "version_major": 2,
       "version_minor": 0
      },
      "text/plain": [
       "Output()"
      ]
     },
     "metadata": {},
     "output_type": "display_data"
    },
    {
     "data": {
      "text/html": [
       "<pre style=\"white-space:pre;overflow-x:auto;line-height:normal;font-family:Menlo,'DejaVu Sans Mono',consolas,'Courier New',monospace\"></pre>\n"
      ],
      "text/plain": []
     },
     "metadata": {},
     "output_type": "display_data"
    },
    {
     "name": "stderr",
     "output_type": "stream",
     "text": [
      "Sampling 4 chains for 500 tune and 500 draw iterations (2_000 + 2_000 draws total) took 10 seconds.\n",
      "/Users/afengler/Library/CloudStorage/OneDrive-Personal/proj_hssm/HSSM/.venv/lib/python3.12/site-packages/pymc/pytensorf.py:958: FutureWarning: compile_pymc was renamed to compile. Old name will be removed in a future release of PyMC\n",
      "  warnings.warn(\n",
      "100%|██████████| 2000/2000 [00:00<00:00, 2704.58it/s]\n"
     ]
    },
    {
     "data": {
      "text/html": [
       "<div>\n",
       "<style scoped>\n",
       "    .dataframe tbody tr th:only-of-type {\n",
       "        vertical-align: middle;\n",
       "    }\n",
       "\n",
       "    .dataframe tbody tr th {\n",
       "        vertical-align: top;\n",
       "    }\n",
       "\n",
       "    .dataframe thead th {\n",
       "        text-align: right;\n",
       "    }\n",
       "</style>\n",
       "<table border=\"1\" class=\"dataframe\">\n",
       "  <thead>\n",
       "    <tr style=\"text-align: right;\">\n",
       "      <th></th>\n",
       "      <th>mean</th>\n",
       "      <th>sd</th>\n",
       "      <th>hdi_3%</th>\n",
       "      <th>hdi_97%</th>\n",
       "      <th>mcse_mean</th>\n",
       "      <th>mcse_sd</th>\n",
       "      <th>ess_bulk</th>\n",
       "      <th>ess_tail</th>\n",
       "      <th>r_hat</th>\n",
       "    </tr>\n",
       "  </thead>\n",
       "  <tbody>\n",
       "    <tr>\n",
       "      <th>t</th>\n",
       "      <td>0.121</td>\n",
       "      <td>0.025</td>\n",
       "      <td>0.077</td>\n",
       "      <td>0.170</td>\n",
       "      <td>0.001</td>\n",
       "      <td>0.001</td>\n",
       "      <td>918.0</td>\n",
       "      <td>891.0</td>\n",
       "      <td>1.0</td>\n",
       "    </tr>\n",
       "    <tr>\n",
       "      <th>a</th>\n",
       "      <td>1.547</td>\n",
       "      <td>0.031</td>\n",
       "      <td>1.487</td>\n",
       "      <td>1.602</td>\n",
       "      <td>0.001</td>\n",
       "      <td>0.001</td>\n",
       "      <td>971.0</td>\n",
       "      <td>1118.0</td>\n",
       "      <td>1.0</td>\n",
       "    </tr>\n",
       "    <tr>\n",
       "      <th>z_left.stimcoding</th>\n",
       "      <td>0.504</td>\n",
       "      <td>0.013</td>\n",
       "      <td>0.479</td>\n",
       "      <td>0.528</td>\n",
       "      <td>0.000</td>\n",
       "      <td>0.000</td>\n",
       "      <td>1273.0</td>\n",
       "      <td>1304.0</td>\n",
       "      <td>1.0</td>\n",
       "    </tr>\n",
       "    <tr>\n",
       "      <th>v_direction</th>\n",
       "      <td>0.591</td>\n",
       "      <td>0.033</td>\n",
       "      <td>0.530</td>\n",
       "      <td>0.653</td>\n",
       "      <td>0.001</td>\n",
       "      <td>0.001</td>\n",
       "      <td>1345.0</td>\n",
       "      <td>1200.0</td>\n",
       "      <td>1.0</td>\n",
       "    </tr>\n",
       "  </tbody>\n",
       "</table>\n",
       "</div>"
      ],
      "text/plain": [
       "                    mean     sd  hdi_3%  hdi_97%  mcse_mean  mcse_sd  \\\n",
       "t                  0.121  0.025   0.077    0.170      0.001    0.001   \n",
       "a                  1.547  0.031   1.487    1.602      0.001    0.001   \n",
       "z_left.stimcoding  0.504  0.013   0.479    0.528      0.000    0.000   \n",
       "v_direction        0.591  0.033   0.530    0.653      0.001    0.001   \n",
       "\n",
       "                   ess_bulk  ess_tail  r_hat  \n",
       "t                     918.0     891.0    1.0  \n",
       "a                     971.0    1118.0    1.0  \n",
       "z_left.stimcoding    1273.0    1304.0    1.0  \n",
       "v_direction          1345.0    1200.0    1.0  "
      ]
     },
     "execution_count": 9,
     "metadata": {},
     "output_type": "execute_result"
    }
   ],
   "source": [
    "m_stim_inc_z = hssm.HSSM(\n",
    "    data=data_stim,\n",
    "    model=\"ddm\",\n",
    "    include=[\n",
    "        {\n",
    "            \"name\": \"v\",\n",
    "            \"formula\": \"v ~ 0 + direction\",\n",
    "            \"prior\": {\"direction\": {\"name\": \"Normal\", \"mu\": 0.0, \"sigma\": 3.0}},\n",
    "        },\n",
    "        {\n",
    "            \"name\": \"z\",\n",
    "            \"formula\": \"z ~ 0 + left.stimcoding + offset(right.stimcoding)\",\n",
    "            \"prior\": {\n",
    "                \"left.stimcoding\": {\"name\": \"Uniform\", \"lower\": 0.0, \"upper\": 1.0},\n",
    "            },\n",
    "        },\n",
    "    ],\n",
    ")\n",
    "\n",
    "m_stim_inc_z.sample(sampler=\"mcmc\", tune=500, draws=500)\n",
    "\n",
    "m_stim_inc_z.summary()"
   ]
  },
  {
   "cell_type": "code",
   "execution_count": 10,
   "metadata": {},
   "outputs": [
    {
     "data": {
      "text/html": [
       "<div>\n",
       "<style scoped>\n",
       "    .dataframe tbody tr th:only-of-type {\n",
       "        vertical-align: middle;\n",
       "    }\n",
       "\n",
       "    .dataframe tbody tr th {\n",
       "        vertical-align: top;\n",
       "    }\n",
       "\n",
       "    .dataframe thead th {\n",
       "        text-align: right;\n",
       "    }\n",
       "</style>\n",
       "<table border=\"1\" class=\"dataframe\">\n",
       "  <thead>\n",
       "    <tr style=\"text-align: right;\">\n",
       "      <th></th>\n",
       "      <th>rank</th>\n",
       "      <th>elpd_loo</th>\n",
       "      <th>p_loo</th>\n",
       "      <th>elpd_diff</th>\n",
       "      <th>weight</th>\n",
       "      <th>se</th>\n",
       "      <th>dse</th>\n",
       "      <th>warning</th>\n",
       "      <th>scale</th>\n",
       "    </tr>\n",
       "  </thead>\n",
       "  <tbody>\n",
       "    <tr>\n",
       "      <th>m_acc_simple</th>\n",
       "      <td>0</td>\n",
       "      <td>-1984.071347</td>\n",
       "      <td>2.891709</td>\n",
       "      <td>0.000000</td>\n",
       "      <td>8.995027e-01</td>\n",
       "      <td>34.937772</td>\n",
       "      <td>0.000000</td>\n",
       "      <td>False</td>\n",
       "      <td>log</td>\n",
       "    </tr>\n",
       "    <tr>\n",
       "      <th>m_stim</th>\n",
       "      <td>1</td>\n",
       "      <td>-1984.083760</td>\n",
       "      <td>2.914335</td>\n",
       "      <td>0.012413</td>\n",
       "      <td>0.000000e+00</td>\n",
       "      <td>34.947440</td>\n",
       "      <td>0.120808</td>\n",
       "      <td>False</td>\n",
       "      <td>log</td>\n",
       "    </tr>\n",
       "    <tr>\n",
       "      <th>m_acc_stim_dummy</th>\n",
       "      <td>2</td>\n",
       "      <td>-1984.485112</td>\n",
       "      <td>3.889187</td>\n",
       "      <td>0.413765</td>\n",
       "      <td>1.004973e-01</td>\n",
       "      <td>35.007229</td>\n",
       "      <td>1.018139</td>\n",
       "      <td>False</td>\n",
       "      <td>log</td>\n",
       "    </tr>\n",
       "    <tr>\n",
       "      <th>m_stim_inc_z</th>\n",
       "      <td>3</td>\n",
       "      <td>-1985.096863</td>\n",
       "      <td>3.933478</td>\n",
       "      <td>1.025517</td>\n",
       "      <td>5.662137e-15</td>\n",
       "      <td>34.972019</td>\n",
       "      <td>0.226523</td>\n",
       "      <td>False</td>\n",
       "      <td>log</td>\n",
       "    </tr>\n",
       "  </tbody>\n",
       "</table>\n",
       "</div>"
      ],
      "text/plain": [
       "                  rank     elpd_loo     p_loo  elpd_diff        weight  \\\n",
       "m_acc_simple         0 -1984.071347  2.891709   0.000000  8.995027e-01   \n",
       "m_stim               1 -1984.083760  2.914335   0.012413  0.000000e+00   \n",
       "m_acc_stim_dummy     2 -1984.485112  3.889187   0.413765  1.004973e-01   \n",
       "m_stim_inc_z         3 -1985.096863  3.933478   1.025517  5.662137e-15   \n",
       "\n",
       "                         se       dse  warning scale  \n",
       "m_acc_simple      34.937772  0.000000    False   log  \n",
       "m_stim            34.947440  0.120808    False   log  \n",
       "m_acc_stim_dummy  35.007229  1.018139    False   log  \n",
       "m_stim_inc_z      34.972019  0.226523    False   log  "
      ]
     },
     "execution_count": 10,
     "metadata": {},
     "output_type": "execute_result"
    }
   ],
   "source": [
    "az.compare(\n",
    "    {\n",
    "        \"m_acc_simple\": m_acc_simple.traces,\n",
    "        \"m_acc_stim_dummy\": m_acc_stim_dummy.traces,\n",
    "        \"m_stim\": m_stim.traces,\n",
    "        \"m_stim_inc_z\": m_stim_inc_z.traces,\n",
    "    }\n",
    ")"
   ]
  }
 ],
 "metadata": {
  "kernelspec": {
   "display_name": ".venv",
   "language": "python",
   "name": "python3"
  },
  "language_info": {
   "codemirror_mode": {
    "name": "ipython",
    "version": 3
   },
   "file_extension": ".py",
   "mimetype": "text/x-python",
   "name": "python",
   "nbconvert_exporter": "python",
   "pygments_lexer": "ipython3",
   "version": "3.12.9"
  }
 },
 "nbformat": 4,
 "nbformat_minor": 2
}
