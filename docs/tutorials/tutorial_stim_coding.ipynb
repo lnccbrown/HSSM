{
 "cells": [
  {
   "cell_type": "markdown",
   "metadata": {},
   "source": [
    "# Stimulus Coding Example\n",
    "\n",
    "In this tutorial we illustrate how to use the regression approach to model the effect of stimulus coding on the drift rate parameter of the DDM."
   ]
  },
  {
   "cell_type": "markdown",
   "metadata": {},
   "source": [
    "### Import Modules"
   ]
  },
  {
   "cell_type": "code",
   "execution_count": null,
   "metadata": {},
   "outputs": [],
   "source": [
    "from copy import deepcopy\n",
    "\n",
    "import arviz as az\n",
    "import pandas as pd\n",
    "\n",
    "import hssm"
   ]
  },
  {
   "cell_type": "markdown",
   "metadata": {},
   "source": [
    "## What is Stimulus Coding?\n",
    "\n",
    "There are two core approaches to coding the stimuli when fitting paramters of 2-choice SSMs (the discussion here is simplified, to bring across the core ideas, de facto ideas from both approaches can be mixed):\n",
    "\n",
    "1. *Accuracy coding*: Responses are treated as **correct** or **incorrect**\n",
    "2. *Stimulus coding*: Responses are treated as **stimulus_1** or **stimulus_2**\n",
    "\n",
    "Take as a running example a simple random dot motion task with two conditions, `left` and `right`. Both conditions are equally *difficult*, but for half of the experiments the correct motion direction is left, and for the other half it is right.\n",
    "\n",
    "So it will be reasonable to assume that, ceteris paribus, nothing should really change in terms of participant behavior, apart from symmetrically preferring right to left when it is correct and vice versa. \n",
    "\n",
    "Now, when applying *Accuracy coding*, we would expect the drift rate to be the same for both conditions, any condition effect to vanish by the time we code responses as correct or incorrect.\n",
    "\n",
    "When we apply *Stimulus coding* on the other hand, we actively need to account for the direction change (since we now attach our *response values*, e.g. `-1`, `1`, permanently to specific choice-options, regardless correctness). \n",
    "\n",
    "To formulate a model that is equivalent to the one described above in terms of *accuracy coding*, we again want to estimate only a single `v` parameter, but we have to respect the direction change in response when respectively completing experiment conditions `left` and `right`.\n",
    "\n",
    "Note that an important aspect of what we describe above is that we want to estimate a single `v` parameter in each of the two *coding approaches*.\n",
    "\n",
    "For *Accuracy coding* we simply estimate a single `v` parameter, and no extra work is necessary.\n",
    "\n",
    "For *Stimulus coding* we need to account for **symmetric** shift in direction from the two experiment conditions. One way to do this, is the following:\n",
    "\n",
    "We can simply assign a covariate, `direction`, which codes `-1` for `left` and `1` for `right`.\n",
    "Then we use the following regression formula for the `v` parameter: `v ~ 0 + direction`. \n",
    "\n",
    "Note that we are *not using an intercept* here.\n",
    "\n",
    "Let's how this works in practice."
   ]
  },
  {
   "cell_type": "markdown",
   "metadata": {},
   "source": [
    "## Simulate Data\n"
   ]
  },
  {
   "cell_type": "code",
   "execution_count": null,
   "metadata": {},
   "outputs": [
    {
     "name": "stdout",
     "output_type": "stream",
     "text": [
      "         rt  response    stim  direction  response_acc\n",
      "0  2.493836      -1.0  C-left         -1          -1.0\n",
      "1  0.829591       1.0  C-left         -1           1.0\n",
      "2  0.386000      -1.0  C-left         -1          -1.0\n",
      "3  1.521230       1.0  C-left         -1           1.0\n",
      "4  1.928993       1.0  C-left         -1           1.0\n",
      "         rt  response    stim  direction  response_acc\n",
      "0  2.493836       1.0  C-left         -1          -1.0\n",
      "1  0.829591      -1.0  C-left         -1           1.0\n",
      "2  0.386000       1.0  C-left         -1          -1.0\n",
      "3  1.521230      -1.0  C-left         -1           1.0\n",
      "4  1.928993      -1.0  C-left         -1           1.0\n"
     ]
    }
   ],
   "source": [
    "# Condition 1\n",
    "stim_1 = hssm.simulate_data(\n",
    "    model=\"ddm\", theta=dict(v=-0.5, a=1.5, z=0.5, t=0.1), size=500\n",
    ")\n",
    "\n",
    "stim_1[\"stim\"] = \"C-left\"\n",
    "stim_1[\"direction\"] = -1\n",
    "stim_1[\"response_acc\"] = (-1) * stim_1[\"response\"]\n",
    "\n",
    "# Condition 2\n",
    "stim_2 = hssm.simulate_data(\n",
    "    model=\"ddm\", theta=dict(v=0.5, a=1.5, z=0.5, t=0.1), size=500\n",
    ")\n",
    "\n",
    "stim_2[\"stim\"] = \"C-right\"\n",
    "stim_2[\"direction\"] = 1\n",
    "stim_2[\"response_acc\"] = stim_2[\"response\"]\n",
    "\n",
    "data_stim = pd.concat([stim_1, stim_2]).reset_index(drop=True)\n",
    "\n",
    "data_acc = deepcopy(data_stim)\n",
    "data_acc[\"response\"] = data_acc[\"response_acc\"]\n",
    "\n",
    "print(data_acc.head())\n",
    "print(data_stim.head())"
   ]
  },
  {
   "cell_type": "markdown",
   "metadata": {},
   "source": [
    "## Set up Models"
   ]
  },
  {
   "cell_type": "markdown",
   "metadata": {},
   "source": [
    "### Accuracy Coding\n"
   ]
  },
  {
   "cell_type": "code",
   "execution_count": null,
   "metadata": {},
   "outputs": [
    {
     "name": "stdout",
     "output_type": "stream",
     "text": [
      "Model initialized successfully.\n",
      "Using default initvals. \n",
      "\n"
     ]
    },
    {
     "name": "stderr",
     "output_type": "stream",
     "text": [
      "Initializing NUTS using adapt_diag...\n",
      "Multiprocess sampling (4 chains in 4 jobs)\n",
      "NUTS: [t, a, v_Intercept, v_stim]\n"
     ]
    },
    {
     "data": {
      "application/vnd.jupyter.widget-view+json": {
       "model_id": "4d104ea5fec4425ca6e5ae8bb3321e1b",
       "version_major": 2,
       "version_minor": 0
      },
      "text/plain": [
       "Output()"
      ]
     },
     "metadata": {},
     "output_type": "display_data"
    },
    {
     "data": {
      "text/html": [
       "<pre style=\"white-space:pre;overflow-x:auto;line-height:normal;font-family:Menlo,'DejaVu Sans Mono',consolas,'Courier New',monospace\"></pre>\n"
      ],
      "text/plain": []
     },
     "metadata": {},
     "output_type": "display_data"
    },
    {
     "name": "stderr",
     "output_type": "stream",
     "text": [
      "Sampling 4 chains for 500 tune and 500 draw iterations (2_000 + 2_000 draws total) took 6 seconds.\n",
      "100%|██████████| 2000/2000 [00:00<00:00, 2607.97it/s]\n"
     ]
    },
    {
     "data": {
      "text/html": [
       "<div>\n",
       "<style scoped>\n",
       "    .dataframe tbody tr th:only-of-type {\n",
       "        vertical-align: middle;\n",
       "    }\n",
       "\n",
       "    .dataframe tbody tr th {\n",
       "        vertical-align: top;\n",
       "    }\n",
       "\n",
       "    .dataframe thead th {\n",
       "        text-align: right;\n",
       "    }\n",
       "</style>\n",
       "<table border=\"1\" class=\"dataframe\">\n",
       "  <thead>\n",
       "    <tr style=\"text-align: right;\">\n",
       "      <th></th>\n",
       "      <th>mean</th>\n",
       "      <th>sd</th>\n",
       "      <th>hdi_3%</th>\n",
       "      <th>hdi_97%</th>\n",
       "      <th>mcse_mean</th>\n",
       "      <th>mcse_sd</th>\n",
       "      <th>ess_bulk</th>\n",
       "      <th>ess_tail</th>\n",
       "      <th>r_hat</th>\n",
       "    </tr>\n",
       "  </thead>\n",
       "  <tbody>\n",
       "    <tr>\n",
       "      <th>t</th>\n",
       "      <td>0.119</td>\n",
       "      <td>0.019</td>\n",
       "      <td>0.082</td>\n",
       "      <td>0.151</td>\n",
       "      <td>0.000</td>\n",
       "      <td>0.000</td>\n",
       "      <td>1557.0</td>\n",
       "      <td>1293.0</td>\n",
       "      <td>1.0</td>\n",
       "    </tr>\n",
       "    <tr>\n",
       "      <th>v_stim[C-right]</th>\n",
       "      <td>0.017</td>\n",
       "      <td>0.048</td>\n",
       "      <td>-0.066</td>\n",
       "      <td>0.113</td>\n",
       "      <td>0.001</td>\n",
       "      <td>0.001</td>\n",
       "      <td>1973.0</td>\n",
       "      <td>1523.0</td>\n",
       "      <td>1.0</td>\n",
       "    </tr>\n",
       "    <tr>\n",
       "      <th>v_Intercept</th>\n",
       "      <td>0.516</td>\n",
       "      <td>0.037</td>\n",
       "      <td>0.453</td>\n",
       "      <td>0.588</td>\n",
       "      <td>0.001</td>\n",
       "      <td>0.001</td>\n",
       "      <td>1799.0</td>\n",
       "      <td>1511.0</td>\n",
       "      <td>1.0</td>\n",
       "    </tr>\n",
       "    <tr>\n",
       "      <th>a</th>\n",
       "      <td>1.465</td>\n",
       "      <td>0.026</td>\n",
       "      <td>1.416</td>\n",
       "      <td>1.515</td>\n",
       "      <td>0.001</td>\n",
       "      <td>0.000</td>\n",
       "      <td>1549.0</td>\n",
       "      <td>1453.0</td>\n",
       "      <td>1.0</td>\n",
       "    </tr>\n",
       "  </tbody>\n",
       "</table>\n",
       "</div>"
      ],
      "text/plain": [
       "                  mean     sd  hdi_3%  hdi_97%  mcse_mean  mcse_sd  ess_bulk  \\\n",
       "t                0.119  0.019   0.082    0.151      0.000    0.000    1557.0   \n",
       "v_stim[C-right]  0.017  0.048  -0.066    0.113      0.001    0.001    1973.0   \n",
       "v_Intercept      0.516  0.037   0.453    0.588      0.001    0.001    1799.0   \n",
       "a                1.465  0.026   1.416    1.515      0.001    0.000    1549.0   \n",
       "\n",
       "                 ess_tail  r_hat  \n",
       "t                  1293.0    1.0  \n",
       "v_stim[C-right]    1523.0    1.0  \n",
       "v_Intercept        1511.0    1.0  \n",
       "a                  1453.0    1.0  "
      ]
     },
     "execution_count": null,
     "metadata": {},
     "output_type": "execute_result"
    }
   ],
   "source": [
    "m_acc_stim_dummy = hssm.HSSM(\n",
    "    data=data_acc,\n",
    "    model=\"ddm\",\n",
    "    include=[{\"name\": \"v\", \"formula\": \"v ~ 1 + stim\"}],\n",
    "    z=0.5,\n",
    ")\n",
    "\n",
    "m_acc_stim_dummy.sample(sampler=\"mcmc\", tune=500, draws=500)\n",
    "\n",
    "m_acc_stim_dummy.summary()"
   ]
  },
  {
   "cell_type": "code",
   "execution_count": null,
   "metadata": {},
   "outputs": [
    {
     "name": "stdout",
     "output_type": "stream",
     "text": [
      "Model initialized successfully.\n",
      "Using default initvals. \n",
      "\n"
     ]
    },
    {
     "name": "stderr",
     "output_type": "stream",
     "text": [
      "Initializing NUTS using adapt_diag...\n",
      "Multiprocess sampling (4 chains in 4 jobs)\n",
      "NUTS: [t, a, v_Intercept]\n"
     ]
    },
    {
     "data": {
      "application/vnd.jupyter.widget-view+json": {
       "model_id": "749384e2978b48e3b6ae15592bc53c57",
       "version_major": 2,
       "version_minor": 0
      },
      "text/plain": [
       "Output()"
      ]
     },
     "metadata": {},
     "output_type": "display_data"
    },
    {
     "data": {
      "text/html": [
       "<pre style=\"white-space:pre;overflow-x:auto;line-height:normal;font-family:Menlo,'DejaVu Sans Mono',consolas,'Courier New',monospace\"></pre>\n"
      ],
      "text/plain": []
     },
     "metadata": {},
     "output_type": "display_data"
    },
    {
     "name": "stderr",
     "output_type": "stream",
     "text": [
      "Sampling 4 chains for 500 tune and 500 draw iterations (2_000 + 2_000 draws total) took 9 seconds.\n",
      "100%|██████████| 2000/2000 [00:00<00:00, 2231.23it/s]\n"
     ]
    },
    {
     "data": {
      "text/html": [
       "<div>\n",
       "<style scoped>\n",
       "    .dataframe tbody tr th:only-of-type {\n",
       "        vertical-align: middle;\n",
       "    }\n",
       "\n",
       "    .dataframe tbody tr th {\n",
       "        vertical-align: top;\n",
       "    }\n",
       "\n",
       "    .dataframe thead th {\n",
       "        text-align: right;\n",
       "    }\n",
       "</style>\n",
       "<table border=\"1\" class=\"dataframe\">\n",
       "  <thead>\n",
       "    <tr style=\"text-align: right;\">\n",
       "      <th></th>\n",
       "      <th>mean</th>\n",
       "      <th>sd</th>\n",
       "      <th>hdi_3%</th>\n",
       "      <th>hdi_97%</th>\n",
       "      <th>mcse_mean</th>\n",
       "      <th>mcse_sd</th>\n",
       "      <th>ess_bulk</th>\n",
       "      <th>ess_tail</th>\n",
       "      <th>r_hat</th>\n",
       "    </tr>\n",
       "  </thead>\n",
       "  <tbody>\n",
       "    <tr>\n",
       "      <th>t</th>\n",
       "      <td>0.118</td>\n",
       "      <td>0.019</td>\n",
       "      <td>0.082</td>\n",
       "      <td>0.151</td>\n",
       "      <td>0.001</td>\n",
       "      <td>0.000</td>\n",
       "      <td>969.0</td>\n",
       "      <td>850.0</td>\n",
       "      <td>1.0</td>\n",
       "    </tr>\n",
       "    <tr>\n",
       "      <th>v_Intercept</th>\n",
       "      <td>0.524</td>\n",
       "      <td>0.025</td>\n",
       "      <td>0.478</td>\n",
       "      <td>0.571</td>\n",
       "      <td>0.001</td>\n",
       "      <td>0.001</td>\n",
       "      <td>1252.0</td>\n",
       "      <td>1277.0</td>\n",
       "      <td>1.0</td>\n",
       "    </tr>\n",
       "    <tr>\n",
       "      <th>a</th>\n",
       "      <td>1.467</td>\n",
       "      <td>0.027</td>\n",
       "      <td>1.416</td>\n",
       "      <td>1.518</td>\n",
       "      <td>0.001</td>\n",
       "      <td>0.001</td>\n",
       "      <td>917.0</td>\n",
       "      <td>1342.0</td>\n",
       "      <td>1.0</td>\n",
       "    </tr>\n",
       "  </tbody>\n",
       "</table>\n",
       "</div>"
      ],
      "text/plain": [
       "              mean     sd  hdi_3%  hdi_97%  mcse_mean  mcse_sd  ess_bulk  \\\n",
       "t            0.118  0.019   0.082    0.151      0.001    0.000     969.0   \n",
       "v_Intercept  0.524  0.025   0.478    0.571      0.001    0.001    1252.0   \n",
       "a            1.467  0.027   1.416    1.518      0.001    0.001     917.0   \n",
       "\n",
       "             ess_tail  r_hat  \n",
       "t               850.0    1.0  \n",
       "v_Intercept    1277.0    1.0  \n",
       "a              1342.0    1.0  "
      ]
     },
     "execution_count": null,
     "metadata": {},
     "output_type": "execute_result"
    }
   ],
   "source": [
    "m_acc_simple = hssm.HSSM(\n",
    "    data=data_acc,\n",
    "    model=\"ddm\",\n",
    "    include=[\n",
    "        {\n",
    "            \"name\": \"v\",\n",
    "            \"formula\": \"v ~ 1\",\n",
    "            \"prior\": {\"Intercept\": {\"name\": \"Normal\", \"mu\": 0.0, \"sigma\": 3.0}},\n",
    "        }\n",
    "    ],\n",
    "    z=0.5,\n",
    ")\n",
    "\n",
    "m_acc_simple.sample(sampler=\"mcmc\", tune=500, draws=500)\n",
    "\n",
    "m_acc_simple.summary()"
   ]
  },
  {
   "cell_type": "code",
   "execution_count": null,
   "metadata": {},
   "outputs": [
    {
     "data": {
      "text/html": [
       "<div>\n",
       "<style scoped>\n",
       "    .dataframe tbody tr th:only-of-type {\n",
       "        vertical-align: middle;\n",
       "    }\n",
       "\n",
       "    .dataframe tbody tr th {\n",
       "        vertical-align: top;\n",
       "    }\n",
       "\n",
       "    .dataframe thead th {\n",
       "        text-align: right;\n",
       "    }\n",
       "</style>\n",
       "<table border=\"1\" class=\"dataframe\">\n",
       "  <thead>\n",
       "    <tr style=\"text-align: right;\">\n",
       "      <th></th>\n",
       "      <th>rank</th>\n",
       "      <th>elpd_loo</th>\n",
       "      <th>p_loo</th>\n",
       "      <th>elpd_diff</th>\n",
       "      <th>weight</th>\n",
       "      <th>se</th>\n",
       "      <th>dse</th>\n",
       "      <th>warning</th>\n",
       "      <th>scale</th>\n",
       "    </tr>\n",
       "  </thead>\n",
       "  <tbody>\n",
       "    <tr>\n",
       "      <th>m_acc_simple</th>\n",
       "      <td>0</td>\n",
       "      <td>-1988.669447</td>\n",
       "      <td>3.053195</td>\n",
       "      <td>0.000000</td>\n",
       "      <td>1.000000e+00</td>\n",
       "      <td>33.191774</td>\n",
       "      <td>0.000000</td>\n",
       "      <td>False</td>\n",
       "      <td>log</td>\n",
       "    </tr>\n",
       "    <tr>\n",
       "      <th>m_acc_stim_dummy</th>\n",
       "      <td>1</td>\n",
       "      <td>-1989.490479</td>\n",
       "      <td>3.906351</td>\n",
       "      <td>0.821032</td>\n",
       "      <td>1.110223e-16</td>\n",
       "      <td>33.245992</td>\n",
       "      <td>0.334027</td>\n",
       "      <td>False</td>\n",
       "      <td>log</td>\n",
       "    </tr>\n",
       "  </tbody>\n",
       "</table>\n",
       "</div>"
      ],
      "text/plain": [
       "                  rank     elpd_loo     p_loo  elpd_diff        weight  \\\n",
       "m_acc_simple         0 -1988.669447  3.053195   0.000000  1.000000e+00   \n",
       "m_acc_stim_dummy     1 -1989.490479  3.906351   0.821032  1.110223e-16   \n",
       "\n",
       "                         se       dse  warning scale  \n",
       "m_acc_simple      33.191774  0.000000    False   log  \n",
       "m_acc_stim_dummy  33.245992  0.334027    False   log  "
      ]
     },
     "execution_count": null,
     "metadata": {},
     "output_type": "execute_result"
    }
   ],
   "source": [
    "az.compare({\"m_acc_simple\": m_acc_simple.traces, \"m_acc_stim_dummy\": m_acc_stim_dummy})"
   ]
  },
  {
   "cell_type": "markdown",
   "metadata": {},
   "source": [
    "## Stim Coding"
   ]
  },
  {
   "cell_type": "code",
   "execution_count": null,
   "metadata": {},
   "outputs": [],
   "source": [
    "m_stim = hssm.HSSM(\n",
    "    data=data_stim,\n",
    "    model=\"ddm\",\n",
    "    include=[\n",
    "        {\n",
    "            \"name\": \"v\",\n",
    "            \"formula\": \"v ~ 0 + direction\",\n",
    "            \"prior\": {\"direction\": {\"name\": \"Normal\", \"mu\": 0.0, \"sigma\": 3.0}},\n",
    "        }\n",
    "    ],\n",
    "    z=0.5,\n",
    ")\n",
    "\n",
    "m_stim.sample(sampler=\"mcmc\", tune=500, draws=500)\n",
    "\n",
    "m_stim.summary()"
   ]
  },
  {
   "cell_type": "code",
   "execution_count": null,
   "metadata": {},
   "outputs": [
    {
     "data": {
      "text/html": [
       "<div>\n",
       "<style scoped>\n",
       "    .dataframe tbody tr th:only-of-type {\n",
       "        vertical-align: middle;\n",
       "    }\n",
       "\n",
       "    .dataframe tbody tr th {\n",
       "        vertical-align: top;\n",
       "    }\n",
       "\n",
       "    .dataframe thead th {\n",
       "        text-align: right;\n",
       "    }\n",
       "</style>\n",
       "<table border=\"1\" class=\"dataframe\">\n",
       "  <thead>\n",
       "    <tr style=\"text-align: right;\">\n",
       "      <th></th>\n",
       "      <th>rank</th>\n",
       "      <th>elpd_loo</th>\n",
       "      <th>p_loo</th>\n",
       "      <th>elpd_diff</th>\n",
       "      <th>weight</th>\n",
       "      <th>se</th>\n",
       "      <th>dse</th>\n",
       "      <th>warning</th>\n",
       "      <th>scale</th>\n",
       "    </tr>\n",
       "  </thead>\n",
       "  <tbody>\n",
       "    <tr>\n",
       "      <th>m_stim</th>\n",
       "      <td>0</td>\n",
       "      <td>-1988.603906</td>\n",
       "      <td>2.991864</td>\n",
       "      <td>0.000000</td>\n",
       "      <td>1.000000e+00</td>\n",
       "      <td>33.219300</td>\n",
       "      <td>0.000000</td>\n",
       "      <td>False</td>\n",
       "      <td>log</td>\n",
       "    </tr>\n",
       "    <tr>\n",
       "      <th>m_acc_simple</th>\n",
       "      <td>1</td>\n",
       "      <td>-1988.669447</td>\n",
       "      <td>3.053195</td>\n",
       "      <td>0.065541</td>\n",
       "      <td>0.000000e+00</td>\n",
       "      <td>33.191774</td>\n",
       "      <td>0.052019</td>\n",
       "      <td>False</td>\n",
       "      <td>log</td>\n",
       "    </tr>\n",
       "    <tr>\n",
       "      <th>m_acc_stim_dummy</th>\n",
       "      <td>2</td>\n",
       "      <td>-1989.490479</td>\n",
       "      <td>3.906351</td>\n",
       "      <td>0.886573</td>\n",
       "      <td>3.663736e-15</td>\n",
       "      <td>33.245992</td>\n",
       "      <td>0.329172</td>\n",
       "      <td>False</td>\n",
       "      <td>log</td>\n",
       "    </tr>\n",
       "  </tbody>\n",
       "</table>\n",
       "</div>"
      ],
      "text/plain": [
       "                  rank     elpd_loo     p_loo  elpd_diff        weight  \\\n",
       "m_stim               0 -1988.603906  2.991864   0.000000  1.000000e+00   \n",
       "m_acc_simple         1 -1988.669447  3.053195   0.065541  0.000000e+00   \n",
       "m_acc_stim_dummy     2 -1989.490479  3.906351   0.886573  3.663736e-15   \n",
       "\n",
       "                         se       dse  warning scale  \n",
       "m_stim            33.219300  0.000000    False   log  \n",
       "m_acc_simple      33.191774  0.052019    False   log  \n",
       "m_acc_stim_dummy  33.245992  0.329172    False   log  "
      ]
     },
     "execution_count": null,
     "metadata": {},
     "output_type": "execute_result"
    }
   ],
   "source": [
    "az.compare(\n",
    "    {\n",
    "        \"m_acc_simple\": m_acc_simple.traces,\n",
    "        \"m_acc_stim_dummy\": m_acc_stim_dummy.traces,\n",
    "        \"m_stim\": m_stim.traces,\n",
    "    }\n",
    ")"
   ]
  },
  {
   "cell_type": "markdown",
   "metadata": {},
   "source": [
    "## Stim coding advanced"
   ]
  },
  {
   "cell_type": "markdown",
   "metadata": {},
   "source": [
    "So far we focused on the `v` parameter. The are two relevant concepts concerning `bias` that we need to account for in the *stimulus coding* approach: \n",
    "\n",
    "#### 1. Bias in `v`:\n",
    "\n",
    "What is drift bias? Imagine our experimental design is such that the correct motion direction is left for half of the experiments and right for the other half. However, the sensory stimuli are such that the participant will nevertheless be accumulating excess evidence toward the left direction, even when the correct motion direction is right for a given trial.\n",
    "To account for drift bias, we simply include an `Intercept` term, which will capture the drift bias, so that the `direction` term will capture the *direction effect*, a symmetric shift around the `Intercept` (previously this `Intercept` was set to 0, or appeared in the model that operated on a dummy `stim` variable, which remember, creates a models that is too complex / has unnecessary extra parameters).\n",
    "\n",
    " #### 2. Bias in `z`:\n",
    "\n",
    "Bias in the `z` parameter gets a bit more tricky. What's the idea here? The `z` parameter represents the *starting point bias*. This notion is to some extend more intuitive when using *stimulus coding* than *accuracy coding*. A starting point bias under the stimulus coding approach is a bias toward a specific choice option (direction). A starting point bias under the accuracy coding approach is a ... bias toward a correct or incorrect response ... (?)\n",
    "\n",
    "By itself not a problem, but to create the often desired symmetry in the `z` parameter across `stim` conditions, keeping in mind that bias takes values in the interval `[0, 1]`, we need to account for the direction effect in the `z` parameter. So if in the `left` condition $z_i = z$, then in the `right` condition $z_i = 1 - z$.\n",
    "\n",
    "How might we incoporate this into our regression framework?\n",
    "\n",
    "Consider the following varible $\\mathbb{1}_{C_i = c}, \\text{for} \\ c \\in \\{left, right\\}$ which is 1 if the condition is `left` and 0 otherwise for a given trial. Now we can write the following function for $z_i$,\n",
    "\n",
    "\n",
    "$$  z_i = \\mathbb{1}_{(C_i = left)} \\cdot z + (1 - \\mathbb{1}_{(C_i = left)}) \\cdot (1 - z) $$\n",
    "\n",
    "which after a bit of algebra can be rewritten as,\n",
    "\n",
    "$$ z_i = \\left((2 \\cdot \\mathbb{1}_{(C_i = left)}) - 1\\right) \\cdot z + (1 - \\mathbb{1}_{(C_i = left)}) $$\n",
    "\n",
    "or,\n",
    "\n",
    "$$ z_i = \\left((2 \\cdot \\mathbb{1}_{(C_i = left)}) - 1\\right) \\cdot z + \\mathbb{1}_{(C_i = right)} $$\n",
    "\n",
    "This is a linear function of the `z` parameter, so we will be able to include it in our model, with a little bit of care.\n",
    "\n",
    "You will see the use of the `offset` function, to account for the `right` condition, and we will a priori massage our data a little to define the `left.stimcoding` and `right.stimcoding` covariates (dummy variables that identify the `left` and `right` conditions). "
   ]
  },
  {
   "cell_type": "markdown",
   "metadata": {},
   "source": [
    "### Defining the new covariates"
   ]
  },
  {
   "cell_type": "code",
   "execution_count": null,
   "metadata": {},
   "outputs": [],
   "source": [
    "# Folling the math above, we can define the new covariates as follows:\n",
    "data_stim[\"left.stimcoding\"] = (2 * (data_stim[\"stim\"] == \"C-left\").astype(int)) - 1\n",
    "data_stim[\"right.stimcoding\"] = (data_stim[\"stim\"] == \"C-right\").astype(int)"
   ]
  },
  {
   "cell_type": "markdown",
   "metadata": {},
   "source": [
    "### Defining the model\n",
    "\n",
    "Below an example of a model that take into account both the bias in `v` and in `z`."
   ]
  },
  {
   "cell_type": "code",
   "execution_count": null,
   "metadata": {},
   "outputs": [
    {
     "name": "stdout",
     "output_type": "stream",
     "text": [
      "Model initialized successfully.\n",
      "Using default initvals. \n",
      "\n"
     ]
    },
    {
     "name": "stderr",
     "output_type": "stream",
     "text": [
      "Initializing NUTS using adapt_diag...\n",
      "Multiprocess sampling (4 chains in 4 jobs)\n",
      "NUTS: [t, a, v_direction, z_left.stimcoding]\n"
     ]
    },
    {
     "data": {
      "application/vnd.jupyter.widget-view+json": {
       "model_id": "121d829eed79452e95f47b4c6cd7c8fb",
       "version_major": 2,
       "version_minor": 0
      },
      "text/plain": [
       "Output()"
      ]
     },
     "metadata": {},
     "output_type": "display_data"
    },
    {
     "data": {
      "text/html": [
       "<pre style=\"white-space:pre;overflow-x:auto;line-height:normal;font-family:Menlo,'DejaVu Sans Mono',consolas,'Courier New',monospace\"></pre>\n"
      ],
      "text/plain": []
     },
     "metadata": {},
     "output_type": "display_data"
    },
    {
     "name": "stderr",
     "output_type": "stream",
     "text": [
      "Sampling 4 chains for 500 tune and 500 draw iterations (2_000 + 2_000 draws total) took 16 seconds.\n",
      "100%|██████████| 2000/2000 [00:02<00:00, 908.02it/s] \n"
     ]
    },
    {
     "data": {
      "text/html": [
       "<div>\n",
       "<style scoped>\n",
       "    .dataframe tbody tr th:only-of-type {\n",
       "        vertical-align: middle;\n",
       "    }\n",
       "\n",
       "    .dataframe tbody tr th {\n",
       "        vertical-align: top;\n",
       "    }\n",
       "\n",
       "    .dataframe thead th {\n",
       "        text-align: right;\n",
       "    }\n",
       "</style>\n",
       "<table border=\"1\" class=\"dataframe\">\n",
       "  <thead>\n",
       "    <tr style=\"text-align: right;\">\n",
       "      <th></th>\n",
       "      <th>mean</th>\n",
       "      <th>sd</th>\n",
       "      <th>hdi_3%</th>\n",
       "      <th>hdi_97%</th>\n",
       "      <th>mcse_mean</th>\n",
       "      <th>mcse_sd</th>\n",
       "      <th>ess_bulk</th>\n",
       "      <th>ess_tail</th>\n",
       "      <th>r_hat</th>\n",
       "    </tr>\n",
       "  </thead>\n",
       "  <tbody>\n",
       "    <tr>\n",
       "      <th>z_left.stimcoding</th>\n",
       "      <td>0.519</td>\n",
       "      <td>0.013</td>\n",
       "      <td>0.495</td>\n",
       "      <td>0.543</td>\n",
       "      <td>0.000</td>\n",
       "      <td>0.000</td>\n",
       "      <td>1245.0</td>\n",
       "      <td>1299.0</td>\n",
       "      <td>1.0</td>\n",
       "    </tr>\n",
       "    <tr>\n",
       "      <th>a</th>\n",
       "      <td>1.469</td>\n",
       "      <td>0.027</td>\n",
       "      <td>1.420</td>\n",
       "      <td>1.518</td>\n",
       "      <td>0.001</td>\n",
       "      <td>0.001</td>\n",
       "      <td>1196.0</td>\n",
       "      <td>1195.0</td>\n",
       "      <td>1.0</td>\n",
       "    </tr>\n",
       "    <tr>\n",
       "      <th>v_direction</th>\n",
       "      <td>0.555</td>\n",
       "      <td>0.034</td>\n",
       "      <td>0.490</td>\n",
       "      <td>0.615</td>\n",
       "      <td>0.001</td>\n",
       "      <td>0.001</td>\n",
       "      <td>1238.0</td>\n",
       "      <td>1169.0</td>\n",
       "      <td>1.0</td>\n",
       "    </tr>\n",
       "    <tr>\n",
       "      <th>t</th>\n",
       "      <td>0.106</td>\n",
       "      <td>0.021</td>\n",
       "      <td>0.066</td>\n",
       "      <td>0.141</td>\n",
       "      <td>0.001</td>\n",
       "      <td>0.000</td>\n",
       "      <td>1141.0</td>\n",
       "      <td>1018.0</td>\n",
       "      <td>1.0</td>\n",
       "    </tr>\n",
       "  </tbody>\n",
       "</table>\n",
       "</div>"
      ],
      "text/plain": [
       "                    mean     sd  hdi_3%  hdi_97%  mcse_mean  mcse_sd  \\\n",
       "z_left.stimcoding  0.519  0.013   0.495    0.543      0.000    0.000   \n",
       "a                  1.469  0.027   1.420    1.518      0.001    0.001   \n",
       "v_direction        0.555  0.034   0.490    0.615      0.001    0.001   \n",
       "t                  0.106  0.021   0.066    0.141      0.001    0.000   \n",
       "\n",
       "                   ess_bulk  ess_tail  r_hat  \n",
       "z_left.stimcoding    1245.0    1299.0    1.0  \n",
       "a                    1196.0    1195.0    1.0  \n",
       "v_direction          1238.0    1169.0    1.0  \n",
       "t                    1141.0    1018.0    1.0  "
      ]
     },
     "execution_count": null,
     "metadata": {},
     "output_type": "execute_result"
    }
   ],
   "source": [
    "m_stim_inc_z = hssm.HSSM(\n",
    "    data=data_stim,\n",
    "    model=\"ddm\",\n",
    "    include=[\n",
    "        {\n",
    "            \"name\": \"v\",\n",
    "            \"formula\": \"v ~ 0 + direction\",\n",
    "            \"prior\": {\"direction\": {\"name\": \"Normal\", \"mu\": 0.0, \"sigma\": 3.0}},\n",
    "        },\n",
    "        {\n",
    "            \"name\": \"z\",\n",
    "            \"formula\": \"z ~ 0 + left.stimcoding + offset(right.stimcoding)\",\n",
    "            \"prior\": {\n",
    "                \"left.stimcoding\": {\"name\": \"Uniform\", \"lower\": 0.0, \"upper\": 1.0},\n",
    "            },\n",
    "        },\n",
    "    ],\n",
    ")\n",
    "\n",
    "m_stim_inc_z.sample(sampler=\"mcmc\", tune=500, draws=500)\n",
    "\n",
    "m_stim_inc_z.summary()"
   ]
  },
  {
   "cell_type": "code",
   "execution_count": null,
   "metadata": {},
   "outputs": [
    {
     "data": {
      "text/html": [
       "<div>\n",
       "<style scoped>\n",
       "    .dataframe tbody tr th:only-of-type {\n",
       "        vertical-align: middle;\n",
       "    }\n",
       "\n",
       "    .dataframe tbody tr th {\n",
       "        vertical-align: top;\n",
       "    }\n",
       "\n",
       "    .dataframe thead th {\n",
       "        text-align: right;\n",
       "    }\n",
       "</style>\n",
       "<table border=\"1\" class=\"dataframe\">\n",
       "  <thead>\n",
       "    <tr style=\"text-align: right;\">\n",
       "      <th></th>\n",
       "      <th>rank</th>\n",
       "      <th>elpd_loo</th>\n",
       "      <th>p_loo</th>\n",
       "      <th>elpd_diff</th>\n",
       "      <th>weight</th>\n",
       "      <th>se</th>\n",
       "      <th>dse</th>\n",
       "      <th>warning</th>\n",
       "      <th>scale</th>\n",
       "    </tr>\n",
       "  </thead>\n",
       "  <tbody>\n",
       "    <tr>\n",
       "      <th>m_stim_inc_z</th>\n",
       "      <td>0</td>\n",
       "      <td>-1988.466490</td>\n",
       "      <td>3.808830</td>\n",
       "      <td>0.000000</td>\n",
       "      <td>5.620994e-01</td>\n",
       "      <td>33.341068</td>\n",
       "      <td>0.000000</td>\n",
       "      <td>False</td>\n",
       "      <td>log</td>\n",
       "    </tr>\n",
       "    <tr>\n",
       "      <th>m_stim</th>\n",
       "      <td>1</td>\n",
       "      <td>-1988.603906</td>\n",
       "      <td>2.991864</td>\n",
       "      <td>0.137416</td>\n",
       "      <td>4.379006e-01</td>\n",
       "      <td>33.219300</td>\n",
       "      <td>1.404438</td>\n",
       "      <td>False</td>\n",
       "      <td>log</td>\n",
       "    </tr>\n",
       "    <tr>\n",
       "      <th>m_acc_simple</th>\n",
       "      <td>2</td>\n",
       "      <td>-1988.669447</td>\n",
       "      <td>3.053195</td>\n",
       "      <td>0.202956</td>\n",
       "      <td>1.776111e-16</td>\n",
       "      <td>33.191774</td>\n",
       "      <td>1.404106</td>\n",
       "      <td>False</td>\n",
       "      <td>log</td>\n",
       "    </tr>\n",
       "    <tr>\n",
       "      <th>m_acc_stim_dummy</th>\n",
       "      <td>3</td>\n",
       "      <td>-1989.490479</td>\n",
       "      <td>3.906351</td>\n",
       "      <td>1.023989</td>\n",
       "      <td>0.000000e+00</td>\n",
       "      <td>33.245992</td>\n",
       "      <td>1.442721</td>\n",
       "      <td>False</td>\n",
       "      <td>log</td>\n",
       "    </tr>\n",
       "  </tbody>\n",
       "</table>\n",
       "</div>"
      ],
      "text/plain": [
       "                  rank     elpd_loo     p_loo  elpd_diff        weight  \\\n",
       "m_stim_inc_z         0 -1988.466490  3.808830   0.000000  5.620994e-01   \n",
       "m_stim               1 -1988.603906  2.991864   0.137416  4.379006e-01   \n",
       "m_acc_simple         2 -1988.669447  3.053195   0.202956  1.776111e-16   \n",
       "m_acc_stim_dummy     3 -1989.490479  3.906351   1.023989  0.000000e+00   \n",
       "\n",
       "                         se       dse  warning scale  \n",
       "m_stim_inc_z      33.341068  0.000000    False   log  \n",
       "m_stim            33.219300  1.404438    False   log  \n",
       "m_acc_simple      33.191774  1.404106    False   log  \n",
       "m_acc_stim_dummy  33.245992  1.442721    False   log  "
      ]
     },
     "execution_count": null,
     "metadata": {},
     "output_type": "execute_result"
    }
   ],
   "source": [
    "az.compare(\n",
    "    {\n",
    "        \"m_acc_simple\": m_acc_simple.traces,\n",
    "        \"m_acc_stim_dummy\": m_acc_stim_dummy.traces,\n",
    "        \"m_stim\": m_stim.traces,\n",
    "        \"m_stim_inc_z\": m_stim_inc_z.traces,\n",
    "    }\n",
    ")"
   ]
  }
 ],
 "metadata": {
  "kernelspec": {
   "display_name": "hssm519",
   "language": "python",
   "name": "hssm519"
  },
  "language_info": {
   "codemirror_mode": {
    "name": "ipython",
    "version": 3
   },
   "file_extension": ".py",
   "mimetype": "text/x-python",
   "name": "python",
   "nbconvert_exporter": "python",
   "pygments_lexer": "ipython3"
  }
 },
 "nbformat": 4,
 "nbformat_minor": 2
}
