{
 "cells": [
  {
   "cell_type": "markdown",
   "id": "9893634b-ef89-4bc8-956d-db773ec7ab85",
   "metadata": {},
   "source": [
    "# Compute \n",
    "import pymc as pm\n",
    "\n",
    "##### Example: DIC (Advanced)\n",
    "\n",
    "\n",
    "We can compute quantities of interest directly from the  `InferenceData` object. \n",
    "\n",
    "Take as an example the [DIC](https://en.wikipedia.org/wiki/Deviance_information_criterion) (Deviance Information Criterion) metric.\n",
    "\n",
    "The DIC is defined as $DIC = D(\\overline{\\theta}) + 2p_{D}$, where \n",
    "\n",
    "- $p_{D} = \\frac{1}{2}\\overline{var(D(\\theta))}$\n",
    "- D(\\theta) = -2log(p(y|\\theta)) + C\n",
    "\n",
    "Here $\\theta$ is our set of parameters `[v, a, z, t]`, $C$ is a constant usually treated as unknown, and $logp(y|\\theta)$ is the log-likelihood\n",
    "of the data $y$, given parameters $\\theta$.\n",
    "\n",
    "Let's see how we can approach calculating the DIC from our `InferenceData` object.\n",
    "\n",
    "Step 1: We want to calculate "
   ]
  },
  {
   "cell_type": "code",
   "execution_count": null,
   "id": "cbd1e9a4-41f9-4233-8ad8-d0301eb9adee",
   "metadata": {},
   "outputs": [],
   "source": [
    "my_logp = simple_ddm_model.pymc_model.logp()"
   ]
  },
  {
   "cell_type": "code",
   "execution_count": null,
   "id": "434c3af7-b428-44d9-a262-7b155fea0859",
   "metadata": {},
   "outputs": [],
   "source": [
    "pm.compute_log_likelihood(infer_data_simple_ddm_model, model = simple_ddm_model.pymc_model)"
   ]
  }
 ],
 "metadata": {
  "kernelspec": {
   "display_name": "hssm_pymc514",
   "language": "python",
   "name": "hssm_pymc514"
  },
  "language_info": {
   "codemirror_mode": {
    "name": "ipython",
    "version": 3
   },
   "file_extension": ".py",
   "mimetype": "text/x-python",
   "name": "python",
   "nbconvert_exporter": "python",
   "pygments_lexer": "ipython3",
   "version": "3.11.9"
  }
 },
 "nbformat": 4,
 "nbformat_minor": 5
}
